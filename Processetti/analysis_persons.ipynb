{
 "cells": [
  {
   "cell_type": "code",
   "execution_count": null,
   "metadata": {},
   "outputs": [],
   "source": []
  },
  {
   "cell_type": "markdown",
   "metadata": {},
   "source": [
    "## Librairies"
   ]
  },
  {
   "cell_type": "code",
   "execution_count": null,
   "metadata": {},
   "outputs": [],
   "source": [
    "import json\n",
    "import pprint\n",
    "from collections import Counter\n",
    "from operator import itemgetter\n",
    "import csv\n",
    "import matplotlib.pyplot as plt"
   ]
  },
  {
   "cell_type": "code",
   "execution_count": null,
   "metadata": {},
   "outputs": [],
   "source": [
    "# https://github.com/drgrib/dotmap\n",
    "from dotmap import DotMap"
   ]
  },
  {
   "cell_type": "code",
   "execution_count": null,
   "metadata": {},
   "outputs": [],
   "source": [
    "import jdcal as jd\n",
    "import datetime\n"
   ]
  },
  {
   "cell_type": "code",
   "execution_count": null,
   "metadata": {},
   "outputs": [],
   "source": [
    "import pandas as pd"
   ]
  },
  {
   "cell_type": "code",
   "execution_count": null,
   "metadata": {},
   "outputs": [],
   "source": []
  },
  {
   "cell_type": "code",
   "execution_count": null,
   "metadata": {},
   "outputs": [],
   "source": []
  },
  {
   "cell_type": "markdown",
   "metadata": {},
   "source": [
    "## Ourvir et inspecter le fichier"
   ]
  },
  {
   "cell_type": "code",
   "execution_count": null,
   "metadata": {},
   "outputs": [],
   "source": [
    "file = 'geovistory_query_exports/Person_basic_view-20210217.json'\n",
    "# file = 'geovistory_query_exports/Person_basic_view-1588325117126.json'"
   ]
  },
  {
   "cell_type": "code",
   "execution_count": null,
   "metadata": {},
   "outputs": [],
   "source": [
    "with open(file) as json_file:\n",
    "    data = json.load(json_file)\n",
    "type(data)    "
   ]
  },
  {
   "cell_type": "code",
   "execution_count": null,
   "metadata": {},
   "outputs": [],
   "source": [
    "[print(a) for a in data]"
   ]
  },
  {
   "cell_type": "code",
   "execution_count": null,
   "metadata": {},
   "outputs": [],
   "source": [
    "# number of rows in the file - create a list\n",
    "rows = data['rows']\n",
    "len(rows)"
   ]
  },
  {
   "cell_type": "code",
   "execution_count": null,
   "metadata": {},
   "outputs": [],
   "source": [
    "columns = data['columns']\n",
    "pprint.pprint(columns)"
   ]
  },
  {
   "cell_type": "code",
   "execution_count": null,
   "metadata": {
    "scrolled": true
   },
   "outputs": [],
   "source": [
    "[pprint.pprint(r) for r in rows[99:101]]"
   ]
  },
  {
   "cell_type": "code",
   "execution_count": null,
   "metadata": {},
   "outputs": [],
   "source": [
    "### create a list of DotMap dictionaries !\n",
    "\n",
    "dm = [DotMap(r) for r in rows[103:104]]\n",
    "# pprint.pprint(dm)"
   ]
  },
  {
   "cell_type": "code",
   "execution_count": null,
   "metadata": {},
   "outputs": [],
   "source": [
    "dm[0].col_0.entity.entity_label"
   ]
  },
  {
   "cell_type": "code",
   "execution_count": null,
   "metadata": {},
   "outputs": [],
   "source": [
    "dm_data = DotMap(data)"
   ]
  },
  {
   "cell_type": "code",
   "execution_count": null,
   "metadata": {},
   "outputs": [],
   "source": [
    "dm_r = dm_data.rows"
   ]
  },
  {
   "cell_type": "code",
   "execution_count": null,
   "metadata": {},
   "outputs": [],
   "source": [
    "len(dm_r)"
   ]
  },
  {
   "cell_type": "code",
   "execution_count": null,
   "metadata": {},
   "outputs": [],
   "source": []
  },
  {
   "cell_type": "markdown",
   "metadata": {},
   "source": [
    "### Gender"
   ]
  },
  {
   "cell_type": "code",
   "execution_count": null,
   "metadata": {},
   "outputs": [],
   "source": [
    "[r.col_2.entities[0].entity_label if r.col_2 else 'missing' for r in  dm_rows[0:5]]"
   ]
  },
  {
   "cell_type": "code",
   "execution_count": null,
   "metadata": {},
   "outputs": [],
   "source": [
    "gl = [r.col_2.entities[0].entity_label if r.col_2.entities else 'missing' for r in  dm_rows]\n",
    "print(gl[101:107])\n",
    "len(gl)"
   ]
  },
  {
   "cell_type": "code",
   "execution_count": null,
   "metadata": {},
   "outputs": [],
   "source": [
    "D = dict(Counter(gl))\n",
    "print(D)\n",
    "len(D)"
   ]
  },
  {
   "cell_type": "code",
   "execution_count": null,
   "metadata": {},
   "outputs": [],
   "source": [
    "plt.bar(range(len(D)), list(D.values()), align='center', width=0.7)\n",
    "plt.xticks(range(len(D)), list(D.keys()))\n",
    "plt.show()"
   ]
  },
  {
   "cell_type": "code",
   "execution_count": null,
   "metadata": {},
   "outputs": [],
   "source": []
  },
  {
   "cell_type": "markdown",
   "metadata": {},
   "source": [
    "## Age by category"
   ]
  },
  {
   "cell_type": "code",
   "execution_count": null,
   "metadata": {
    "scrolled": true
   },
   "outputs": [],
   "source": [
    "[pprint.pprint(r) for r in rows[50:100]]"
   ]
  },
  {
   "cell_type": "code",
   "execution_count": null,
   "metadata": {},
   "outputs": [],
   "source": [
    "def get_entities_JD(entities):\n",
    "    result = []\n",
    "    for e in entities:\n",
    "        if e.time_span.p82.julianDay:\n",
    "            result.append({'pk_teen' : e.pk_entity, 'JD' : e.time_span.p82.julianDay})\n",
    "        elif e.time_span.p81a.julianDay:\n",
    "            result.append({'pk_teen' : e.pk_entity, 'JD' : e.time_span.p81a.julianDay})\n",
    "        elif e.time_span.p82a.julianDay:\n",
    "            result.append({'pk_teen' : e.pk_entity, 'JD' : e.time_span.p82a.julianDay})\n",
    "        else:\n",
    "            result.append(None)\n",
    "\n",
    "    return result\n",
    "\n",
    "def get_entities_label(entities):\n",
    "    result = []\n",
    "    for e in entities:\n",
    "        if e.entity_label:\n",
    "            result.append(e.entity_label)\n",
    "        else:\n",
    "            result.append(None)\n",
    "\n",
    "    return result"
   ]
  },
  {
   "cell_type": "code",
   "execution_count": null,
   "metadata": {},
   "outputs": [],
   "source": []
  },
  {
   "cell_type": "code",
   "execution_count": null,
   "metadata": {},
   "outputs": [],
   "source": [
    "ageOccupationProcessetto = []\n",
    "for r in dm_r: #[299:303]:\n",
    "    \n",
    "    ## person identifier\n",
    "    pk_entity = r.col_0.entity.pk_entity\n",
    "\n",
    "    ## births\n",
    "    birthsJD = get_entities_JD(r.col_3.entities)\n",
    "    \n",
    "    ## occupations, join the labels    \n",
    "    occupations = ','.join([e.entity_label for e in r.col_10.entities])\n",
    "    \n",
    "    ## occupations, list \n",
    "    occupations_l = get_entities_label(r.col_10.entities)\n",
    "    \n",
    "    ## enquiries, get begin date\n",
    "    enquiries = get_entities_JD(r.col_11.entities)\n",
    "\n",
    "    ## witnesses, get begin date\n",
    "    witnesses =  get_entities_JD(r.col_12.entities)\n",
    "                \n",
    "    ageOccupationProcessetto.append([pk_entity, birthsJD, occupations_l, enquiries, witnesses])               \n",
    "    \n",
    "    \n",
    "    \n"
   ]
  },
  {
   "cell_type": "code",
   "execution_count": null,
   "metadata": {
    "scrolled": true
   },
   "outputs": [],
   "source": [
    "pprint.pprint(ageOccupationProcessetto[50:100])"
   ]
  },
  {
   "cell_type": "code",
   "execution_count": null,
   "metadata": {},
   "outputs": [],
   "source": [
    "### age au moment du processetto et métier\n",
    "dateBirthEnquiryOccupation = []\n",
    "for l in ageOccupationProcessetto: #[50:70]:\n",
    "    if l[1] and l[3]:\n",
    "        if l[1][0] and l[3][0]:\n",
    "            d = [jd.jd2jcal((l[1][0]['JD']),0)[0:3],jd.jd2jcal((l[3][0]['JD']),0)[0:3]]\n",
    "            if l[2]:\n",
    "                dateBirthEnquiryOccupation.append(d + [l[2]])\n",
    "            else:    \n",
    "                dateBirthEnquiryOccupation.append(d )\n",
    "    else:\n",
    "        dateBirthEnquiryOccupation.append(None)\n",
    "\n",
    "    "
   ]
  },
  {
   "cell_type": "code",
   "execution_count": null,
   "metadata": {},
   "outputs": [],
   "source": [
    "ages = [(y[1][0] - y[0][0]) for y in dateBirthEnquiryOccupation if y]\n",
    "print(ages[:5])"
   ]
  },
  {
   "cell_type": "code",
   "execution_count": null,
   "metadata": {},
   "outputs": [],
   "source": [
    "s_ages = pd.Series(ages)\n",
    "s_ages.describe()"
   ]
  },
  {
   "cell_type": "code",
   "execution_count": null,
   "metadata": {},
   "outputs": [],
   "source": [
    "std = s_ages.sort_values()\n",
    "type(std)"
   ]
  },
  {
   "cell_type": "code",
   "execution_count": null,
   "metadata": {},
   "outputs": [],
   "source": [
    "# agesCount\n",
    "agesCount = pd.DataFrame(s_ages, columns=['column']).groupby(['column']).size()\n",
    "# print(type(agesCount))\n",
    "# agesCount.index"
   ]
  },
  {
   "cell_type": "code",
   "execution_count": null,
   "metadata": {},
   "outputs": [],
   "source": []
  },
  {
   "cell_type": "code",
   "execution_count": null,
   "metadata": {},
   "outputs": [],
   "source": [
    "ax = agesCount.plot.bar(x='lab', y='val', rot=70, figsize=(20,5))"
   ]
  },
  {
   "cell_type": "code",
   "execution_count": null,
   "metadata": {},
   "outputs": [],
   "source": []
  },
  {
   "cell_type": "code",
   "execution_count": null,
   "metadata": {},
   "outputs": [],
   "source": []
  },
  {
   "cell_type": "code",
   "execution_count": null,
   "metadata": {},
   "outputs": [],
   "source": []
  },
  {
   "cell_type": "code",
   "execution_count": null,
   "metadata": {},
   "outputs": [],
   "source": []
  },
  {
   "cell_type": "code",
   "execution_count": null,
   "metadata": {},
   "outputs": [],
   "source": []
  },
  {
   "cell_type": "code",
   "execution_count": null,
   "metadata": {},
   "outputs": [],
   "source": []
  }
 ],
 "metadata": {
  "kernelspec": {
   "display_name": "Processetti (Py3.6)",
   "language": "python",
   "name": "processetti"
  },
  "language_info": {
   "codemirror_mode": {
    "name": "ipython",
    "version": 3
   },
   "file_extension": ".py",
   "mimetype": "text/x-python",
   "name": "python",
   "nbconvert_exporter": "python",
   "pygments_lexer": "ipython3",
   "version": "3.6.7"
  }
 },
 "nbformat": 4,
 "nbformat_minor": 4
}
