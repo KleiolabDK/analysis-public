{
 "cells": [
  {
   "cell_type": "markdown",
   "metadata": {},
   "source": []
  },
  {
   "cell_type": "markdown",
   "metadata": {},
   "source": [
    "# Préparation"
   ]
  },
  {
   "cell_type": "markdown",
   "metadata": {},
   "source": [
    "## Librairies\n",
    "\n",
    "Importer ces librairies qui auront préalablement ajoutées à l'environnement de travail activé (soit dans un environnement local, soit dans le document _environment.yml_ dans Binder."
   ]
  },
  {
   "cell_type": "code",
   "execution_count": 1,
   "metadata": {},
   "outputs": [],
   "source": [
    "import json\n",
    "import pprint\n",
    "from collections import Counter\n",
    "from operator import itemgetter\n",
    "import csv"
   ]
  },
  {
   "cell_type": "code",
   "execution_count": 2,
   "metadata": {},
   "outputs": [],
   "source": [
    "# https://github.com/drgrib/dotmap\n",
    "from dotmap import DotMap"
   ]
  },
  {
   "cell_type": "code",
   "execution_count": 139,
   "metadata": {},
   "outputs": [],
   "source": [
    "import numpy as np\n",
    "import matplotlib.pyplot as plt\n",
    "import pandas as pd\n",
    "import seaborn as sns"
   ]
  },
  {
   "cell_type": "code",
   "execution_count": 341,
   "metadata": {},
   "outputs": [],
   "source": [
    "# Non utilisées pour l'instant dans ce carnet\n",
    "# import jdcal as jd\n",
    "# import datetime\n"
   ]
  },
  {
   "cell_type": "markdown",
   "metadata": {},
   "source": [
    "## Fonction locales"
   ]
  },
  {
   "cell_type": "code",
   "execution_count": 15,
   "metadata": {},
   "outputs": [],
   "source": [
    "# Fonction de nettoyage\n",
    "def clean_up_str(string):\n",
    "    a = ''\n",
    "    if string:\n",
    "        a = string.replace('\\xa0', '').replace('  ', ' ').strip()\n",
    "    return a    "
   ]
  },
  {
   "cell_type": "code",
   "execution_count": null,
   "metadata": {},
   "outputs": [],
   "source": []
  },
  {
   "cell_type": "markdown",
   "metadata": {},
   "source": [
    "# Préparation des données à analyser"
   ]
  },
  {
   "cell_type": "markdown",
   "metadata": {},
   "source": [
    "## Ourvir et inspecter le fichier\n",
    "\n",
    "Ce fichier contient le résultat d'une requête effectuée dans Geovistory, une table dans le domaine Analysis, ayant le même nom, effectuée à la date indiquée dans le nom du fichier. Si on souhaite utiliser un nouveau fichier, contenant de nouvelles données, il faut le télécharger depuis Geovistory vers le dossier *geovistory_query_exports* et indiquer l'adresse correcte dans la cellule suivante"
   ]
  },
  {
   "cell_type": "code",
   "execution_count": 344,
   "metadata": {},
   "outputs": [],
   "source": [
    "file = 'geovistory_query_exports/aq_stato_civile_20210827.json'"
   ]
  },
  {
   "cell_type": "code",
   "execution_count": 349,
   "metadata": {},
   "outputs": [
    {
     "name": "stdout",
     "output_type": "stream",
     "text": [
      "<class 'dict'> \n",
      "-----\n",
      "columns\n",
      "rows\n"
     ]
    }
   ],
   "source": [
    "### Ouvrir le fichier et le mettre dans la variable *data* sous forme de dictionnaire Python\n",
    "with open(file) as json_file:\n",
    "    data = json.load(json_file)\n",
    "print(type(data), '\\n-----')\n",
    "# noms des objets racine du fichier JSON\n",
    "z = [print(a) for a in data]"
   ]
  },
  {
   "cell_type": "code",
   "execution_count": 350,
   "metadata": {},
   "outputs": [
    {
     "data": {
      "text/plain": [
       "5645"
      ]
     },
     "execution_count": 350,
     "metadata": {},
     "output_type": "execute_result"
    }
   ],
   "source": [
    "### Nombre de lignes dans le fichier, \n",
    "# elles correspondent aux lignes du tableau \n",
    "# résultant de la requête dans Geovistory\n",
    "rows = data['rows']\n",
    "len(rows)"
   ]
  },
  {
   "cell_type": "code",
   "execution_count": 353,
   "metadata": {},
   "outputs": [
    {
     "name": "stdout",
     "output_type": "stream",
     "text": [
      "{'col_0': 'Entity Preview',\n",
      " 'col_1': 'Gender',\n",
      " 'col_10': 'Witness date(s)',\n",
      " 'col_11': 'Witness in enquiry of type',\n",
      " 'col_12': 'Real identity',\n",
      " 'col_13': 'Union Date',\n",
      " 'col_2': 'Birth',\n",
      " 'col_3': 'Occupation Date',\n",
      " 'col_4': 'Occupation Type',\n",
      " 'col_5': 'Origin',\n",
      " 'col_6': 'Pre-matrimonial Enquiry',\n",
      " 'col_7': 'Pre-matrimonial Enquiry Date',\n",
      " 'col_8': 'Pre-matrimonial Enquiry Type',\n",
      " 'col_9': 'Witness'}\n"
     ]
    }
   ],
   "source": [
    "### Les noms des colonnes issues de la requête dans Geovistory\n",
    "columns = data['columns']\n",
    "pprint.pprint(columns)"
   ]
  },
  {
   "cell_type": "code",
   "execution_count": null,
   "metadata": {
    "scrolled": true
   },
   "outputs": [],
   "source": [
    "### Afficher deux lignes du tableau\n",
    "# et explorer les objets qui représentent les cellules\n",
    "# du tableau pour chaque colonne\n",
    "[pprint.pprint(r) for r in rows[99:101]]"
   ]
  },
  {
   "cell_type": "code",
   "execution_count": 91,
   "metadata": {},
   "outputs": [],
   "source": [
    "### Créer un objet DotMap afin de faciliter l'exploitation\n",
    "dm_data = DotMap(data)"
   ]
  },
  {
   "cell_type": "code",
   "execution_count": 354,
   "metadata": {},
   "outputs": [
    {
     "data": {
      "text/plain": [
       "5630"
      ]
     },
     "execution_count": 354,
     "metadata": {},
     "output_type": "execute_result"
    }
   ],
   "source": [
    "### Créer une variable contenant les lignes\n",
    "dm_r = dm_data.rows\n",
    "### L'effectif des lignes\n",
    "len(dm_r)"
   ]
  },
  {
   "cell_type": "code",
   "execution_count": null,
   "metadata": {},
   "outputs": [],
   "source": []
  },
  {
   "cell_type": "markdown",
   "metadata": {},
   "source": [
    "## Transformation et mise à plat des données\n",
    "\n",
    "Il est nécessaire de disposer de données agrégées et mises à plat (en supprimant notamment les valeurs multiples pour une seule variable) afin de pouvoir effectuer les analyses."
   ]
  },
  {
   "cell_type": "code",
   "execution_count": 355,
   "metadata": {},
   "outputs": [],
   "source": [
    "### Persons list = pl\n",
    "#   liste de personnes agrégéées et propriétés mises à plat\n",
    "\n",
    "pl = [['id_persona','nome','anno_nascita','genere','luogo_origine','mestieri',\\\n",
    "       'numero_processetti','id_primo_processetto','anno_primo_processetto','tipo_primo_processetto',\\\n",
    "       'numero_testimonianze','id_prima_testimonianza','anno_prima_testimonianza','tipo_prima_testimonianza',\\\n",
    "       'date_unions']]\n",
    "\n",
    "for r in dm_r: # [60:90]\n",
    "    element = []\n",
    "    # personne\n",
    "    element += [r.col_0.entity.pk_entity, clean_up_str(r.col_0.entity.entity_label)]\n",
    "    values = []\n",
    "    # annee naissance\n",
    "    for v in r.col_2['values']:\n",
    "        if v.value.timePrimitive:\n",
    "            values.append(int(v.value.timePrimitive['from'].calGregorian[:4]))\n",
    "    if len(values) > 1:\n",
    "        element += [int(round(np.rint(np.mean(values))))]\n",
    "    elif len(values) > 0:    \n",
    "        element += [values[0]]\n",
    "    else:\n",
    "        element += [None]\n",
    "        \n",
    "    # genre    \n",
    "    element += [r.col_1.entities[0].entity_label if r.col_1.entities else 'missing']\n",
    "\n",
    "    # origine(s)\n",
    "    element += ['#'.join([clean_up_str(p.entity_label) + '('+ str(p.pk_entity) +')' for p in r.col_5.entities])]\n",
    "\n",
    "    # metier(s)\n",
    "    element += ['#'.join([clean_up_str(p.entity_label) + '('+ str(p.pk_entity) +')' for p in r.col_4.entities])]\n",
    "    # element += [clean_up_str(p.entity_label) + '('+ str(p.pk_entity) +')' for p in r.col_4.entities]\n",
    "    pl.append(element)\n",
    "    \n",
    "    # nombre processetti + id premier processetto\n",
    "    if len(r.col_6.entities) > 0:\n",
    "        element += [len(r.col_6.entities)]\n",
    "        element += [[v.pk_entity for v in r.col_6.entities][0]]\n",
    "    else:\n",
    "        element += [0]\n",
    "        element += [0]\n",
    "        \n",
    "    # annee premier processetto\n",
    "    values = []\n",
    "    for v in r.col_7['values']:\n",
    "        if v.value.timePrimitive:\n",
    "            values.append(int(v.value.timePrimitive['from'].calGregorian[:4]))\n",
    "            values.append(int(v.value.timePrimitive['to'].calGregorian[:4]))\n",
    "    if len(values) > 1:\n",
    "        element += [int(round(np.rint(np.mean(values))))]\n",
    "    elif len(values) > 0:    \n",
    "        element += [values[0]]\n",
    "    else:\n",
    "        element += [None]\n",
    "        \n",
    "    # types premier processetto\n",
    "    if len(r.col_8.entities) > 0:\n",
    "        element += ['#'.join([v.entity_label for v in r.col_8.entities])]\n",
    "    else:\n",
    "        element += ['']\n",
    "    \n",
    "        \n",
    "    \n",
    "    # nombre testimone + id premier processetto testimone\n",
    "    if len(r.col_9.entities) > 0:\n",
    "        element += [len(r.col_9.entities)]\n",
    "        element += [[v.pk_entity for v in r.col_9.entities][0]]\n",
    "    else:\n",
    "        element += [0]\n",
    "        element += [0]\n",
    "        \n",
    "    # annee premier processetto testimone\n",
    "    values = []\n",
    "    for v in r.col_10['values']:\n",
    "        if v.value.timePrimitive:\n",
    "            values.append(int(v.value.timePrimitive['from'].calGregorian[:4]))\n",
    "            values.append(int(v.value.timePrimitive['to'].calGregorian[:4]))\n",
    "    if len(values) > 1:\n",
    "        element += [int(round(np.rint(np.mean(values))))]\n",
    "    elif len(values) > 0:    \n",
    "        element += [values[0]]\n",
    "    else:\n",
    "        element += [None]\n",
    "\n",
    "    # types processetto comme contexte de témoignage\n",
    "    if len(r.col_11.entities) > 0:\n",
    "        element += ['#'.join([v.entity_label for v in r.col_11.entities])]\n",
    "    else:\n",
    "        element += ['']\n",
    "        \n",
    "    # Union\n",
    "    values = []\n",
    "    for v in r.col_13['values']:\n",
    "        if v.value.timePrimitive:\n",
    "            values.append(int(v.value.timePrimitive['from'].calGregorian[:4]))\n",
    "            values.append(int(v.value.timePrimitive['to'].calGregorian[:4]))\n",
    "    if len(values) > 1:\n",
    "        element += [int(round(np.rint(np.mean(values))))]\n",
    "    elif len(values) > 0:    \n",
    "        element += [values[0]]\n",
    "    else:\n",
    "        element += [None]\n",
    "    "
   ]
  },
  {
   "cell_type": "code",
   "execution_count": null,
   "metadata": {
    "scrolled": true,
    "tags": []
   },
   "outputs": [],
   "source": [
    "### Inspection des données produites\n",
    "pl[:3]"
   ]
  },
  {
   "cell_type": "code",
   "execution_count": 357,
   "metadata": {},
   "outputs": [
    {
     "name": "stdout",
     "output_type": "stream",
     "text": [
      "Effectif : 5630 \n",
      "\n"
     ]
    },
    {
     "data": {
      "text/html": [
       "<div>\n",
       "<style scoped>\n",
       "    .dataframe tbody tr th:only-of-type {\n",
       "        vertical-align: middle;\n",
       "    }\n",
       "\n",
       "    .dataframe tbody tr th {\n",
       "        vertical-align: top;\n",
       "    }\n",
       "\n",
       "    .dataframe thead th {\n",
       "        text-align: right;\n",
       "    }\n",
       "</style>\n",
       "<table border=\"1\" class=\"dataframe\">\n",
       "  <thead>\n",
       "    <tr style=\"text-align: right;\">\n",
       "      <th></th>\n",
       "      <th>id_persona</th>\n",
       "      <th>nome</th>\n",
       "      <th>anno_nascita</th>\n",
       "      <th>genere</th>\n",
       "      <th>luogo_origine</th>\n",
       "      <th>mestieri</th>\n",
       "      <th>numero_processetti</th>\n",
       "      <th>id_primo_processetto</th>\n",
       "      <th>anno_primo_processetto</th>\n",
       "      <th>tipo_primo_processetto</th>\n",
       "      <th>numero_testimonianze</th>\n",
       "      <th>id_prima_testimonianza</th>\n",
       "      <th>anno_prima_testimonianza</th>\n",
       "      <th>tipo_prima_testimonianza</th>\n",
       "      <th>date_unions</th>\n",
       "    </tr>\n",
       "  </thead>\n",
       "  <tbody>\n",
       "    <tr>\n",
       "      <th>0</th>\n",
       "      <td>81417</td>\n",
       "      <td>Tommaso di Lorenzo Spilman (tedesco)</td>\n",
       "      <td>1558.0</td>\n",
       "      <td>Maschile</td>\n",
       "      <td>Alemania(753623)</td>\n",
       "      <td></td>\n",
       "      <td>0</td>\n",
       "      <td>0</td>\n",
       "      <td>NaN</td>\n",
       "      <td></td>\n",
       "      <td>1</td>\n",
       "      <td>739330</td>\n",
       "      <td>1592.0</td>\n",
       "      <td>Stato libero di “foresto” #Processetto atipico</td>\n",
       "      <td>NaN</td>\n",
       "    </tr>\n",
       "    <tr>\n",
       "      <th>1</th>\n",
       "      <td>81461</td>\n",
       "      <td>Gieremia Vais</td>\n",
       "      <td>NaN</td>\n",
       "      <td>Maschile</td>\n",
       "      <td></td>\n",
       "      <td></td>\n",
       "      <td>0</td>\n",
       "      <td>0</td>\n",
       "      <td>NaN</td>\n",
       "      <td></td>\n",
       "      <td>0</td>\n",
       "      <td>0</td>\n",
       "      <td>NaN</td>\n",
       "      <td></td>\n",
       "      <td>NaN</td>\n",
       "    </tr>\n",
       "    <tr>\n",
       "      <th>2</th>\n",
       "      <td>81648</td>\n",
       "      <td>Limoletti, Domenico</td>\n",
       "      <td>NaN</td>\n",
       "      <td>Maschile</td>\n",
       "      <td></td>\n",
       "      <td></td>\n",
       "      <td>0</td>\n",
       "      <td>0</td>\n",
       "      <td>NaN</td>\n",
       "      <td></td>\n",
       "      <td>0</td>\n",
       "      <td>0</td>\n",
       "      <td>NaN</td>\n",
       "      <td></td>\n",
       "      <td>NaN</td>\n",
       "    </tr>\n",
       "    <tr>\n",
       "      <th>3</th>\n",
       "      <td>737969</td>\n",
       "      <td>Maestro Venere (Padova)</td>\n",
       "      <td>NaN</td>\n",
       "      <td>Maschile</td>\n",
       "      <td></td>\n",
       "      <td></td>\n",
       "      <td>0</td>\n",
       "      <td>0</td>\n",
       "      <td>NaN</td>\n",
       "      <td></td>\n",
       "      <td>0</td>\n",
       "      <td>0</td>\n",
       "      <td>NaN</td>\n",
       "      <td></td>\n",
       "      <td>NaN</td>\n",
       "    </tr>\n",
       "    <tr>\n",
       "      <th>4</th>\n",
       "      <td>737986</td>\n",
       "      <td>Giacomo di Cristoforo Franes (da Füssen)</td>\n",
       "      <td>1566.0</td>\n",
       "      <td>Maschile</td>\n",
       "      <td>Füssen(1082004)</td>\n",
       "      <td></td>\n",
       "      <td>1</td>\n",
       "      <td>739330</td>\n",
       "      <td>1592.0</td>\n",
       "      <td>Stato libero di “foresto” #Processetto atipico</td>\n",
       "      <td>0</td>\n",
       "      <td>0</td>\n",
       "      <td>NaN</td>\n",
       "      <td></td>\n",
       "      <td>1592.0</td>\n",
       "    </tr>\n",
       "  </tbody>\n",
       "</table>\n",
       "</div>"
      ],
      "text/plain": [
       "   id_persona                                      nome  anno_nascita  \\\n",
       "0       81417      Tommaso di Lorenzo Spilman (tedesco)        1558.0   \n",
       "1       81461                             Gieremia Vais           NaN   \n",
       "2       81648                       Limoletti, Domenico           NaN   \n",
       "3      737969                   Maestro Venere (Padova)           NaN   \n",
       "4      737986  Giacomo di Cristoforo Franes (da Füssen)        1566.0   \n",
       "\n",
       "     genere     luogo_origine mestieri  numero_processetti  \\\n",
       "0  Maschile  Alemania(753623)                            0   \n",
       "1  Maschile                                              0   \n",
       "2  Maschile                                              0   \n",
       "3  Maschile                                              0   \n",
       "4  Maschile   Füssen(1082004)                            1   \n",
       "\n",
       "   id_primo_processetto  anno_primo_processetto  \\\n",
       "0                     0                     NaN   \n",
       "1                     0                     NaN   \n",
       "2                     0                     NaN   \n",
       "3                     0                     NaN   \n",
       "4                739330                  1592.0   \n",
       "\n",
       "                            tipo_primo_processetto  numero_testimonianze  \\\n",
       "0                                                                      1   \n",
       "1                                                                      0   \n",
       "2                                                                      0   \n",
       "3                                                                      0   \n",
       "4  Stato libero di “foresto” #Processetto atipico                      0   \n",
       "\n",
       "   id_prima_testimonianza  anno_prima_testimonianza  \\\n",
       "0                  739330                    1592.0   \n",
       "1                       0                       NaN   \n",
       "2                       0                       NaN   \n",
       "3                       0                       NaN   \n",
       "4                       0                       NaN   \n",
       "\n",
       "                          tipo_prima_testimonianza  date_unions  \n",
       "0  Stato libero di “foresto” #Processetto atipico           NaN  \n",
       "1                                                           NaN  \n",
       "2                                                           NaN  \n",
       "3                                                           NaN  \n",
       "4                                                        1592.0  "
      ]
     },
     "execution_count": 357,
     "metadata": {},
     "output_type": "execute_result"
    }
   ],
   "source": [
    "### Transformation en DataFrame et export vers un fichier CSV\n",
    "# Ce fichier pourra être exploré et manipulé dans un tableur, si souhaité\n",
    "pl_df = pd.DataFrame(pl[1:], columns=pl[0])\n",
    "file_exp = 'geovistory_query_exports/demographie.csv'\n",
    "pl_df.to_csv(file_exp, sep='|')\n",
    "print('Effectif :', len(pl_df), '\\n')\n",
    "pl_df.head()"
   ]
  },
  {
   "cell_type": "markdown",
   "metadata": {},
   "source": [
    "# Analyse"
   ]
  },
  {
   "cell_type": "markdown",
   "metadata": {},
   "source": [
    "## Effectifs de requérants / témoignages et distribution dans le temps"
   ]
  },
  {
   "cell_type": "markdown",
   "metadata": {},
   "source": [
    "### Effectifs généraux"
   ]
  },
  {
   "cell_type": "code",
   "execution_count": 359,
   "metadata": {},
   "outputs": [
    {
     "data": {
      "text/plain": [
       "1788"
      ]
     },
     "execution_count": 359,
     "metadata": {},
     "output_type": "execute_result"
    }
   ],
   "source": [
    "### Effectif personnes ayant été objets d'un processetto\n",
    "len(pl_df[pl_df['id_primo_processetto']>0])"
   ]
  },
  {
   "cell_type": "code",
   "execution_count": 360,
   "metadata": {},
   "outputs": [
    {
     "data": {
      "text/plain": [
       "3559"
      ]
     },
     "execution_count": 360,
     "metadata": {},
     "output_type": "execute_result"
    }
   ],
   "source": [
    "### Effectif personnes ayant témoigné lors d'un processetto\n",
    "len(pl_df[pl_df['id_prima_testimonianza']>0])"
   ]
  },
  {
   "cell_type": "markdown",
   "metadata": {},
   "source": [
    "### Distribution dans le temps"
   ]
  },
  {
   "cell_type": "code",
   "execution_count": 362,
   "metadata": {},
   "outputs": [
    {
     "name": "stdout",
     "output_type": "stream",
     "text": [
      "5532    1061.0\n",
      "4       1592.0\n",
      "1158    1592.0\n",
      "326     1592.0\n",
      "1155    1592.0\n",
      "Name: anno_primo_processetto, dtype: float64 5625       NaN\n",
      "5626    1600.0\n",
      "5627       NaN\n",
      "5628    1603.0\n",
      "5629    1603.0\n",
      "Name: anno_prima_testimonianza, dtype: float64 \n",
      "-----\n"
     ]
    },
    {
     "data": {
      "text/plain": [
       "count    1784.000000\n",
       "mean     1599.799327\n",
       "std        14.932568\n",
       "min      1061.000000\n",
       "25%      1597.000000\n",
       "50%      1598.000000\n",
       "75%      1602.000000\n",
       "max      1693.000000\n",
       "Name: anno_primo_processetto, dtype: float64"
      ]
     },
     "execution_count": 362,
     "metadata": {},
     "output_type": "execute_result"
    }
   ],
   "source": [
    "print(pl_df['anno_primo_processetto'].sort_values().head(), pl_df['anno_prima_testimonianza'].tail(), '\\n-----')\n",
    "pl_df['anno_primo_processetto'].describe()"
   ]
  },
  {
   "cell_type": "code",
   "execution_count": null,
   "metadata": {},
   "outputs": [],
   "source": []
  },
  {
   "cell_type": "markdown",
   "metadata": {},
   "source": [
    "### Age\n",
    "\n",
    "Ajout d'une colonne contenant l'age des personnes au moment du processetto. Noter qu'il s'agit de moyenne en raison de la mise à plat et lissage des données opéré ci-dessus"
   ]
  },
  {
   "cell_type": "code",
   "execution_count": 363,
   "metadata": {},
   "outputs": [],
   "source": [
    "pl_df['anno_primo_processetto'] = pl_df['anno_primo_processetto'].fillna(0)\n",
    "pl_df['anno_prima_testimonianza'] = pl_df['anno_prima_testimonianza'].fillna(0)"
   ]
  },
  {
   "cell_type": "code",
   "execution_count": 364,
   "metadata": {
    "tags": []
   },
   "outputs": [],
   "source": [
    "pl_df['eta'] = pl_df['anno_primo_processetto'] + pl_df['anno_prima_testimonianza'] - pl_df['anno_nascita']\n",
    "pl_df['eta'] = pl_df['eta'].fillna(0)"
   ]
  },
  {
   "cell_type": "code",
   "execution_count": 365,
   "metadata": {},
   "outputs": [
    {
     "data": {
      "text/html": [
       "<div>\n",
       "<style scoped>\n",
       "    .dataframe tbody tr th:only-of-type {\n",
       "        vertical-align: middle;\n",
       "    }\n",
       "\n",
       "    .dataframe tbody tr th {\n",
       "        vertical-align: top;\n",
       "    }\n",
       "\n",
       "    .dataframe thead th {\n",
       "        text-align: right;\n",
       "    }\n",
       "</style>\n",
       "<table border=\"1\" class=\"dataframe\">\n",
       "  <thead>\n",
       "    <tr style=\"text-align: right;\">\n",
       "      <th></th>\n",
       "      <th>eta</th>\n",
       "      <th>anno_nascita</th>\n",
       "      <th>anno_primo_processetto</th>\n",
       "      <th>anno_prima_testimonianza</th>\n",
       "    </tr>\n",
       "  </thead>\n",
       "  <tbody>\n",
       "    <tr>\n",
       "      <th>30</th>\n",
       "      <td>50.0</td>\n",
       "      <td>1548.0</td>\n",
       "      <td>0.0</td>\n",
       "      <td>1598.0</td>\n",
       "    </tr>\n",
       "    <tr>\n",
       "      <th>31</th>\n",
       "      <td>51.0</td>\n",
       "      <td>1547.0</td>\n",
       "      <td>0.0</td>\n",
       "      <td>1598.0</td>\n",
       "    </tr>\n",
       "    <tr>\n",
       "      <th>32</th>\n",
       "      <td>0.0</td>\n",
       "      <td>NaN</td>\n",
       "      <td>0.0</td>\n",
       "      <td>0.0</td>\n",
       "    </tr>\n",
       "    <tr>\n",
       "      <th>33</th>\n",
       "      <td>30.0</td>\n",
       "      <td>1562.0</td>\n",
       "      <td>1592.0</td>\n",
       "      <td>0.0</td>\n",
       "    </tr>\n",
       "    <tr>\n",
       "      <th>34</th>\n",
       "      <td>0.0</td>\n",
       "      <td>NaN</td>\n",
       "      <td>0.0</td>\n",
       "      <td>0.0</td>\n",
       "    </tr>\n",
       "  </tbody>\n",
       "</table>\n",
       "</div>"
      ],
      "text/plain": [
       "     eta  anno_nascita  anno_primo_processetto  anno_prima_testimonianza\n",
       "30  50.0        1548.0                     0.0                    1598.0\n",
       "31  51.0        1547.0                     0.0                    1598.0\n",
       "32   0.0           NaN                     0.0                       0.0\n",
       "33  30.0        1562.0                  1592.0                       0.0\n",
       "34   0.0           NaN                     0.0                       0.0"
      ]
     },
     "execution_count": 365,
     "metadata": {},
     "output_type": "execute_result"
    }
   ],
   "source": [
    "pl_df[['eta','anno_nascita','anno_primo_processetto','anno_prima_testimonianza']].iloc[30:35]"
   ]
  },
  {
   "cell_type": "code",
   "execution_count": 366,
   "metadata": {},
   "outputs": [
    {
     "data": {
      "text/plain": [
       "count    5630.000000\n",
       "mean       12.885613\n",
       "std       260.647814\n",
       "min     -1696.000000\n",
       "25%        23.000000\n",
       "50%        30.000000\n",
       "75%        40.000000\n",
       "max      1654.000000\n",
       "Name: eta, dtype: float64"
      ]
     },
     "execution_count": 366,
     "metadata": {},
     "output_type": "execute_result"
    }
   ],
   "source": [
    "### Ce calcul des valeurs de centralité et dispersion est biaisée par quelques erreurs \n",
    "# de saisie et données manquantes\n",
    "pl_df['eta'].describe()"
   ]
  },
  {
   "cell_type": "code",
   "execution_count": 221,
   "metadata": {},
   "outputs": [
    {
     "data": {
      "text/plain": [
       "count    4864.000000\n",
       "mean       34.962993\n",
       "std        12.561552\n",
       "min         5.000000\n",
       "25%        25.000000\n",
       "50%        32.000000\n",
       "75%        42.000000\n",
       "max        98.000000\n",
       "dtype: float64"
      ]
     },
     "execution_count": 221,
     "metadata": {},
     "output_type": "execute_result"
    }
   ],
   "source": [
    "### la valeur médiane est 32 ans\n",
    "pd.Series([int(e) for e in list(pl_df['eta']) if e > 0 and e < 100]).describe()"
   ]
  },
  {
   "cell_type": "markdown",
   "metadata": {},
   "source": [
    "## Nettoyage et codage des données \n",
    "\n",
    "Le tableau produit simplifie et uniformise les données en vue de l'analyse"
   ]
  },
  {
   "cell_type": "code",
   "execution_count": 372,
   "metadata": {},
   "outputs": [
    {
     "data": {
      "text/plain": [
       "array([1689, 1690, 1691, 1692, 1693])"
      ]
     },
     "execution_count": 372,
     "metadata": {},
     "output_type": "execute_result"
    }
   ],
   "source": [
    "liste_annees = pd.RangeIndex(1592, 1694).to_series()\n",
    "liste_annees.tail().values"
   ]
  },
  {
   "cell_type": "code",
   "execution_count": 373,
   "metadata": {},
   "outputs": [],
   "source": [
    "##  https://stackoverflow.com/questions/16476924/how-to-iterate-over-rows-in-a-dataframe-in-pandas\n",
    "result_list = []\n",
    "for l in liste_annees:  # [:2]\n",
    "    for (i,row) in pl_df.iterrows():   # .iloc[:100]\n",
    "        # print(l, row['anno_primo_processetto'])\n",
    "        if l == row['anno_primo_processetto']:\n",
    "            if 'atipico' in row['tipo_primo_processetto']:\n",
    "                proc_type = 'atipico'\n",
    "            elif 'Vedovanza' in row['tipo_primo_processetto']:\n",
    "                proc_type = 'vedovanza'\n",
    "            elif 'assente' in row['tipo_primo_processetto']:\n",
    "                proc_type = 'assente'\n",
    "            elif 'libero' in row['tipo_primo_processetto']:\n",
    "                proc_type = 'libero'\n",
    "            else:\n",
    "                proc_type = 'manca'\n",
    "            result_list.append([l, 'richiedente', proc_type, row['genere'], int(row['eta'])])\n",
    "\n",
    "        if l == row['anno_prima_testimonianza']:\n",
    "            if 'atipico' in row['tipo_prima_testimonianza']:\n",
    "                proc_type = 'atipico'\n",
    "            elif 'Vedovanza' in row['tipo_prima_testimonianza']:\n",
    "                proc_type = 'vedovanza'\n",
    "            elif 'assente' in row['tipo_prima_testimonianza']:\n",
    "                proc_type = 'assente'\n",
    "            elif 'libero' in row['tipo_prima_testimonianza']:\n",
    "                proc_type = 'libero'\n",
    "            else:\n",
    "                proc_type = 'manca'\n",
    "\n",
    "            result_list.append([l, 'testimone', proc_type, row['genere'], int(row['eta'])])\n",
    "            \n",
    "                        \n",
    "            "
   ]
  },
  {
   "cell_type": "code",
   "execution_count": 374,
   "metadata": {},
   "outputs": [
    {
     "data": {
      "text/plain": [
       "[[1592, 'testimone', 'atipico', 'Maschile', 34],\n",
       " [1592, 'richiedente', 'atipico', 'Maschile', 26],\n",
       " [1592, 'richiedente', 'libero', 'Maschile', 25],\n",
       " [1592, 'richiedente', 'libero', 'Maschile', 20],\n",
       " [1592, 'richiedente', 'libero', 'Maschile', 26],\n",
       " [1592, 'testimone', 'atipico', 'Maschile', 34],\n",
       " [1592, 'richiedente', 'libero', 'Maschile', 22],\n",
       " [1592, 'richiedente', 'libero', 'Maschile', 32],\n",
       " [1592, 'testimone', 'libero', 'Maschile', 29],\n",
       " [1592, 'richiedente', 'libero', 'Maschile', 38]]"
      ]
     },
     "execution_count": 374,
     "metadata": {},
     "output_type": "execute_result"
    }
   ],
   "source": [
    "result_list[:10]"
   ]
  },
  {
   "cell_type": "code",
   "execution_count": 376,
   "metadata": {},
   "outputs": [
    {
     "data": {
      "text/html": [
       "<div>\n",
       "<style scoped>\n",
       "    .dataframe tbody tr th:only-of-type {\n",
       "        vertical-align: middle;\n",
       "    }\n",
       "\n",
       "    .dataframe tbody tr th {\n",
       "        vertical-align: top;\n",
       "    }\n",
       "\n",
       "    .dataframe thead th {\n",
       "        text-align: right;\n",
       "    }\n",
       "</style>\n",
       "<table border=\"1\" class=\"dataframe\">\n",
       "  <thead>\n",
       "    <tr style=\"text-align: right;\">\n",
       "      <th></th>\n",
       "      <th>anno</th>\n",
       "      <th>qualita_persona</th>\n",
       "      <th>tipo</th>\n",
       "      <th>genere</th>\n",
       "      <th>eta</th>\n",
       "    </tr>\n",
       "  </thead>\n",
       "  <tbody>\n",
       "    <tr>\n",
       "      <th>1030</th>\n",
       "      <td>1596</td>\n",
       "      <td>testimone</td>\n",
       "      <td>libero</td>\n",
       "      <td>Maschile</td>\n",
       "      <td>24</td>\n",
       "    </tr>\n",
       "    <tr>\n",
       "      <th>1031</th>\n",
       "      <td>1596</td>\n",
       "      <td>richiedente</td>\n",
       "      <td>libero</td>\n",
       "      <td>Maschile</td>\n",
       "      <td>20</td>\n",
       "    </tr>\n",
       "    <tr>\n",
       "      <th>1032</th>\n",
       "      <td>1596</td>\n",
       "      <td>testimone</td>\n",
       "      <td>libero</td>\n",
       "      <td>Maschile</td>\n",
       "      <td>51</td>\n",
       "    </tr>\n",
       "    <tr>\n",
       "      <th>1033</th>\n",
       "      <td>1596</td>\n",
       "      <td>testimone</td>\n",
       "      <td>libero</td>\n",
       "      <td>Maschile</td>\n",
       "      <td>56</td>\n",
       "    </tr>\n",
       "    <tr>\n",
       "      <th>1034</th>\n",
       "      <td>1596</td>\n",
       "      <td>richiedente</td>\n",
       "      <td>vedovanza</td>\n",
       "      <td>Femminile</td>\n",
       "      <td>0</td>\n",
       "    </tr>\n",
       "    <tr>\n",
       "      <th>1035</th>\n",
       "      <td>1596</td>\n",
       "      <td>testimone</td>\n",
       "      <td>vedovanza</td>\n",
       "      <td>Maschile</td>\n",
       "      <td>40</td>\n",
       "    </tr>\n",
       "    <tr>\n",
       "      <th>1036</th>\n",
       "      <td>1596</td>\n",
       "      <td>testimone</td>\n",
       "      <td>vedovanza</td>\n",
       "      <td>Maschile</td>\n",
       "      <td>40</td>\n",
       "    </tr>\n",
       "    <tr>\n",
       "      <th>1037</th>\n",
       "      <td>1596</td>\n",
       "      <td>testimone</td>\n",
       "      <td>vedovanza</td>\n",
       "      <td>Maschile</td>\n",
       "      <td>70</td>\n",
       "    </tr>\n",
       "    <tr>\n",
       "      <th>1038</th>\n",
       "      <td>1596</td>\n",
       "      <td>richiedente</td>\n",
       "      <td>vedovanza</td>\n",
       "      <td>Femminile</td>\n",
       "      <td>0</td>\n",
       "    </tr>\n",
       "    <tr>\n",
       "      <th>1039</th>\n",
       "      <td>1596</td>\n",
       "      <td>testimone</td>\n",
       "      <td>vedovanza</td>\n",
       "      <td>Maschile</td>\n",
       "      <td>56</td>\n",
       "    </tr>\n",
       "  </tbody>\n",
       "</table>\n",
       "</div>"
      ],
      "text/plain": [
       "      anno qualita_persona       tipo     genere  eta\n",
       "1030  1596       testimone     libero   Maschile   24\n",
       "1031  1596     richiedente     libero   Maschile   20\n",
       "1032  1596       testimone     libero   Maschile   51\n",
       "1033  1596       testimone     libero   Maschile   56\n",
       "1034  1596     richiedente  vedovanza  Femminile    0\n",
       "1035  1596       testimone  vedovanza   Maschile   40\n",
       "1036  1596       testimone  vedovanza   Maschile   40\n",
       "1037  1596       testimone  vedovanza   Maschile   70\n",
       "1038  1596     richiedente  vedovanza  Femminile    0\n",
       "1039  1596       testimone  vedovanza   Maschile   56"
      ]
     },
     "execution_count": 376,
     "metadata": {},
     "output_type": "execute_result"
    }
   ],
   "source": [
    "df_result_list = pd.DataFrame(result_list, columns=['anno', 'qualita_persona', 'tipo','genere','eta'])\n",
    "df_result_list.iloc[1030:1040]"
   ]
  },
  {
   "cell_type": "markdown",
   "metadata": {},
   "source": [
    "## Regrouper les _Processetti_ par type et age"
   ]
  },
  {
   "cell_type": "code",
   "execution_count": 377,
   "metadata": {},
   "outputs": [
    {
     "data": {
      "text/html": [
       "<div>\n",
       "<style scoped>\n",
       "    .dataframe tbody tr th:only-of-type {\n",
       "        vertical-align: middle;\n",
       "    }\n",
       "\n",
       "    .dataframe tbody tr th {\n",
       "        vertical-align: top;\n",
       "    }\n",
       "\n",
       "    .dataframe thead th {\n",
       "        text-align: right;\n",
       "    }\n",
       "</style>\n",
       "<table border=\"1\" class=\"dataframe\">\n",
       "  <thead>\n",
       "    <tr style=\"text-align: right;\">\n",
       "      <th>tipo</th>\n",
       "      <th>assente</th>\n",
       "      <th>atipico</th>\n",
       "      <th>libero</th>\n",
       "      <th>vedovanza</th>\n",
       "    </tr>\n",
       "    <tr>\n",
       "      <th>eta</th>\n",
       "      <th></th>\n",
       "      <th></th>\n",
       "      <th></th>\n",
       "      <th></th>\n",
       "    </tr>\n",
       "  </thead>\n",
       "  <tbody>\n",
       "    <tr>\n",
       "      <th>15</th>\n",
       "      <td>0</td>\n",
       "      <td>0</td>\n",
       "      <td>3</td>\n",
       "      <td>0</td>\n",
       "    </tr>\n",
       "    <tr>\n",
       "      <th>16</th>\n",
       "      <td>0</td>\n",
       "      <td>0</td>\n",
       "      <td>8</td>\n",
       "      <td>0</td>\n",
       "    </tr>\n",
       "    <tr>\n",
       "      <th>17</th>\n",
       "      <td>0</td>\n",
       "      <td>0</td>\n",
       "      <td>13</td>\n",
       "      <td>0</td>\n",
       "    </tr>\n",
       "    <tr>\n",
       "      <th>18</th>\n",
       "      <td>2</td>\n",
       "      <td>0</td>\n",
       "      <td>26</td>\n",
       "      <td>0</td>\n",
       "    </tr>\n",
       "    <tr>\n",
       "      <th>19</th>\n",
       "      <td>1</td>\n",
       "      <td>2</td>\n",
       "      <td>53</td>\n",
       "      <td>0</td>\n",
       "    </tr>\n",
       "    <tr>\n",
       "      <th>20</th>\n",
       "      <td>0</td>\n",
       "      <td>1</td>\n",
       "      <td>86</td>\n",
       "      <td>0</td>\n",
       "    </tr>\n",
       "    <tr>\n",
       "      <th>21</th>\n",
       "      <td>2</td>\n",
       "      <td>1</td>\n",
       "      <td>95</td>\n",
       "      <td>0</td>\n",
       "    </tr>\n",
       "    <tr>\n",
       "      <th>22</th>\n",
       "      <td>0</td>\n",
       "      <td>1</td>\n",
       "      <td>105</td>\n",
       "      <td>0</td>\n",
       "    </tr>\n",
       "    <tr>\n",
       "      <th>23</th>\n",
       "      <td>2</td>\n",
       "      <td>1</td>\n",
       "      <td>93</td>\n",
       "      <td>0</td>\n",
       "    </tr>\n",
       "    <tr>\n",
       "      <th>24</th>\n",
       "      <td>1</td>\n",
       "      <td>1</td>\n",
       "      <td>143</td>\n",
       "      <td>0</td>\n",
       "    </tr>\n",
       "    <tr>\n",
       "      <th>25</th>\n",
       "      <td>1</td>\n",
       "      <td>1</td>\n",
       "      <td>110</td>\n",
       "      <td>0</td>\n",
       "    </tr>\n",
       "    <tr>\n",
       "      <th>26</th>\n",
       "      <td>3</td>\n",
       "      <td>1</td>\n",
       "      <td>103</td>\n",
       "      <td>0</td>\n",
       "    </tr>\n",
       "    <tr>\n",
       "      <th>27</th>\n",
       "      <td>2</td>\n",
       "      <td>2</td>\n",
       "      <td>68</td>\n",
       "      <td>1</td>\n",
       "    </tr>\n",
       "    <tr>\n",
       "      <th>28</th>\n",
       "      <td>1</td>\n",
       "      <td>3</td>\n",
       "      <td>95</td>\n",
       "      <td>0</td>\n",
       "    </tr>\n",
       "    <tr>\n",
       "      <th>29</th>\n",
       "      <td>1</td>\n",
       "      <td>0</td>\n",
       "      <td>46</td>\n",
       "      <td>0</td>\n",
       "    </tr>\n",
       "    <tr>\n",
       "      <th>30</th>\n",
       "      <td>2</td>\n",
       "      <td>1</td>\n",
       "      <td>89</td>\n",
       "      <td>2</td>\n",
       "    </tr>\n",
       "    <tr>\n",
       "      <th>31</th>\n",
       "      <td>1</td>\n",
       "      <td>0</td>\n",
       "      <td>32</td>\n",
       "      <td>0</td>\n",
       "    </tr>\n",
       "    <tr>\n",
       "      <th>32</th>\n",
       "      <td>2</td>\n",
       "      <td>0</td>\n",
       "      <td>31</td>\n",
       "      <td>2</td>\n",
       "    </tr>\n",
       "    <tr>\n",
       "      <th>33</th>\n",
       "      <td>0</td>\n",
       "      <td>0</td>\n",
       "      <td>28</td>\n",
       "      <td>2</td>\n",
       "    </tr>\n",
       "  </tbody>\n",
       "</table>\n",
       "</div>"
      ],
      "text/plain": [
       "tipo  assente  atipico  libero  vedovanza\n",
       "eta                                      \n",
       "15          0        0       3          0\n",
       "16          0        0       8          0\n",
       "17          0        0      13          0\n",
       "18          2        0      26          0\n",
       "19          1        2      53          0\n",
       "20          0        1      86          0\n",
       "21          2        1      95          0\n",
       "22          0        1     105          0\n",
       "23          2        1      93          0\n",
       "24          1        1     143          0\n",
       "25          1        1     110          0\n",
       "26          3        1     103          0\n",
       "27          2        2      68          1\n",
       "28          1        3      95          0\n",
       "29          1        0      46          0\n",
       "30          2        1      89          2\n",
       "31          1        0      32          0\n",
       "32          2        0      31          2\n",
       "33          0        0      28          2"
      ]
     },
     "execution_count": 377,
     "metadata": {},
     "output_type": "execute_result"
    }
   ],
   "source": [
    "### Tableau de contingence age-type Processetto\n",
    "# pour les personnes objet de l'enquête\n",
    "\n",
    "X = \"eta\"  \n",
    "Y = \"tipo\"\n",
    "\n",
    "anno_tipo = df_result_list[(df_result_list['qualita_persona']=='richiedente')&(df_result_list['eta']>12)&(df_result_list['eta']<100)][[X,Y]].pivot_table(index=X,columns=Y,aggfunc=len).fillna(0).astype(int) \n",
    "anno_tipo.iloc[1:20]"
   ]
  },
  {
   "cell_type": "code",
   "execution_count": 378,
   "metadata": {},
   "outputs": [
    {
     "data": {
      "image/png": "[encoded data removed]",
      "text/plain": [
       "<Figure size 1440x576 with 1 Axes>"
      ]
     },
     "metadata": {
      "needs_background": "light"
     },
     "output_type": "display_data"
    }
   ],
   "source": [
    "axis = anno_tipo.plot(kind=\"bar\", stacked=\"true\", figsize=(20,8))\n"
   ]
  },
  {
   "cell_type": "code",
   "execution_count": 379,
   "metadata": {
    "tags": []
   },
   "outputs": [],
   "source": [
    "### Créer la liste des périodes de 5 ans, i.e. la liste de la première année de chaque période\n",
    "a5List = []\n",
    "period = 5\n",
    "d_start = 6\n",
    "i = 0\n",
    "a5List.append(d_start)\n",
    "\n",
    "while i < 19:\n",
    "    d_start = d_start + period\n",
    "    a5List.append(d_start)\n",
    "    i += 1"
   ]
  },
  {
   "cell_type": "code",
   "execution_count": null,
   "metadata": {},
   "outputs": [],
   "source": [
    "print(a5List[:2])\n",
    "min(a5List), max(a5List)"
   ]
  },
  {
   "cell_type": "code",
   "execution_count": 381,
   "metadata": {},
   "outputs": [
    {
     "data": {
      "text/html": [
       "<div>\n",
       "<style scoped>\n",
       "    .dataframe tbody tr th:only-of-type {\n",
       "        vertical-align: middle;\n",
       "    }\n",
       "\n",
       "    .dataframe tbody tr th {\n",
       "        vertical-align: top;\n",
       "    }\n",
       "\n",
       "    .dataframe thead th {\n",
       "        text-align: right;\n",
       "    }\n",
       "</style>\n",
       "<table border=\"1\" class=\"dataframe\">\n",
       "  <thead>\n",
       "    <tr style=\"text-align: right;\">\n",
       "      <th></th>\n",
       "      <th>anno</th>\n",
       "      <th>qualita_persona</th>\n",
       "      <th>tipo</th>\n",
       "      <th>genere</th>\n",
       "      <th>eta</th>\n",
       "      <th>lustro</th>\n",
       "    </tr>\n",
       "  </thead>\n",
       "  <tbody>\n",
       "    <tr>\n",
       "      <th>0</th>\n",
       "      <td>1592</td>\n",
       "      <td>testimone</td>\n",
       "      <td>atipico</td>\n",
       "      <td>Maschile</td>\n",
       "      <td>34</td>\n",
       "      <td>[31.0, 36.0)</td>\n",
       "    </tr>\n",
       "    <tr>\n",
       "      <th>1</th>\n",
       "      <td>1592</td>\n",
       "      <td>richiedente</td>\n",
       "      <td>atipico</td>\n",
       "      <td>Maschile</td>\n",
       "      <td>26</td>\n",
       "      <td>[26.0, 31.0)</td>\n",
       "    </tr>\n",
       "    <tr>\n",
       "      <th>2</th>\n",
       "      <td>1592</td>\n",
       "      <td>richiedente</td>\n",
       "      <td>libero</td>\n",
       "      <td>Maschile</td>\n",
       "      <td>25</td>\n",
       "      <td>[21.0, 26.0)</td>\n",
       "    </tr>\n",
       "    <tr>\n",
       "      <th>3</th>\n",
       "      <td>1592</td>\n",
       "      <td>richiedente</td>\n",
       "      <td>libero</td>\n",
       "      <td>Maschile</td>\n",
       "      <td>20</td>\n",
       "      <td>[16.0, 21.0)</td>\n",
       "    </tr>\n",
       "    <tr>\n",
       "      <th>4</th>\n",
       "      <td>1592</td>\n",
       "      <td>richiedente</td>\n",
       "      <td>libero</td>\n",
       "      <td>Maschile</td>\n",
       "      <td>26</td>\n",
       "      <td>[26.0, 31.0)</td>\n",
       "    </tr>\n",
       "    <tr>\n",
       "      <th>...</th>\n",
       "      <td>...</td>\n",
       "      <td>...</td>\n",
       "      <td>...</td>\n",
       "      <td>...</td>\n",
       "      <td>...</td>\n",
       "      <td>...</td>\n",
       "    </tr>\n",
       "    <tr>\n",
       "      <th>5327</th>\n",
       "      <td>1628</td>\n",
       "      <td>richiedente</td>\n",
       "      <td>libero</td>\n",
       "      <td>Femminile</td>\n",
       "      <td>0</td>\n",
       "      <td>NaN</td>\n",
       "    </tr>\n",
       "    <tr>\n",
       "      <th>5328</th>\n",
       "      <td>1628</td>\n",
       "      <td>testimone</td>\n",
       "      <td>libero</td>\n",
       "      <td>Maschile</td>\n",
       "      <td>39</td>\n",
       "      <td>[36.0, 41.0)</td>\n",
       "    </tr>\n",
       "    <tr>\n",
       "      <th>5329</th>\n",
       "      <td>1693</td>\n",
       "      <td>richiedente</td>\n",
       "      <td>libero</td>\n",
       "      <td>Maschile</td>\n",
       "      <td>117</td>\n",
       "      <td>NaN</td>\n",
       "    </tr>\n",
       "    <tr>\n",
       "      <th>5330</th>\n",
       "      <td>1693</td>\n",
       "      <td>testimone</td>\n",
       "      <td>libero</td>\n",
       "      <td>Maschile</td>\n",
       "      <td>126</td>\n",
       "      <td>NaN</td>\n",
       "    </tr>\n",
       "    <tr>\n",
       "      <th>5331</th>\n",
       "      <td>1693</td>\n",
       "      <td>testimone</td>\n",
       "      <td>libero</td>\n",
       "      <td>Maschile</td>\n",
       "      <td>140</td>\n",
       "      <td>NaN</td>\n",
       "    </tr>\n",
       "  </tbody>\n",
       "</table>\n",
       "<p>5332 rows × 6 columns</p>\n",
       "</div>"
      ],
      "text/plain": [
       "      anno qualita_persona     tipo     genere  eta        lustro\n",
       "0     1592       testimone  atipico   Maschile   34  [31.0, 36.0)\n",
       "1     1592     richiedente  atipico   Maschile   26  [26.0, 31.0)\n",
       "2     1592     richiedente   libero   Maschile   25  [21.0, 26.0)\n",
       "3     1592     richiedente   libero   Maschile   20  [16.0, 21.0)\n",
       "4     1592     richiedente   libero   Maschile   26  [26.0, 31.0)\n",
       "...    ...             ...      ...        ...  ...           ...\n",
       "5327  1628     richiedente   libero  Femminile    0           NaN\n",
       "5328  1628       testimone   libero   Maschile   39  [36.0, 41.0)\n",
       "5329  1693     richiedente   libero   Maschile  117           NaN\n",
       "5330  1693       testimone   libero   Maschile  126           NaN\n",
       "5331  1693       testimone   libero   Maschile  140           NaN\n",
       "\n",
       "[5332 rows x 6 columns]"
      ]
     },
     "execution_count": 381,
     "metadata": {},
     "output_type": "execute_result"
    }
   ],
   "source": [
    "df_result_list_lustres = df_result_list.copy(deep=True)\n",
    "df_result_list_lustres['lustro'] = pd.cut(df_result_list_lustres['eta'], a5List, right=False)\n",
    "# Inspection\n",
    "df_result_list_lustres"
   ]
  },
  {
   "cell_type": "code",
   "execution_count": 382,
   "metadata": {},
   "outputs": [],
   "source": [
    "### Transformer le code ajouté pour qu'il soit plus lisible\n",
    "df_result_list_lustres['lustro'] = df_result_list_lustres['lustro'].apply(lambda row : str(int(row.left))+'-'+str(int(row.right)))"
   ]
  },
  {
   "cell_type": "code",
   "execution_count": 383,
   "metadata": {},
   "outputs": [
    {
     "data": {
      "text/html": [
       "<div>\n",
       "<style scoped>\n",
       "    .dataframe tbody tr th:only-of-type {\n",
       "        vertical-align: middle;\n",
       "    }\n",
       "\n",
       "    .dataframe tbody tr th {\n",
       "        vertical-align: top;\n",
       "    }\n",
       "\n",
       "    .dataframe thead th {\n",
       "        text-align: right;\n",
       "    }\n",
       "</style>\n",
       "<table border=\"1\" class=\"dataframe\">\n",
       "  <thead>\n",
       "    <tr style=\"text-align: right;\">\n",
       "      <th></th>\n",
       "      <th>anno</th>\n",
       "      <th>qualita_persona</th>\n",
       "      <th>tipo</th>\n",
       "      <th>genere</th>\n",
       "      <th>eta</th>\n",
       "      <th>lustro</th>\n",
       "    </tr>\n",
       "  </thead>\n",
       "  <tbody>\n",
       "    <tr>\n",
       "      <th>0</th>\n",
       "      <td>1592</td>\n",
       "      <td>testimone</td>\n",
       "      <td>atipico</td>\n",
       "      <td>Maschile</td>\n",
       "      <td>34</td>\n",
       "      <td>31-36</td>\n",
       "    </tr>\n",
       "    <tr>\n",
       "      <th>1</th>\n",
       "      <td>1592</td>\n",
       "      <td>richiedente</td>\n",
       "      <td>atipico</td>\n",
       "      <td>Maschile</td>\n",
       "      <td>26</td>\n",
       "      <td>26-31</td>\n",
       "    </tr>\n",
       "    <tr>\n",
       "      <th>2</th>\n",
       "      <td>1592</td>\n",
       "      <td>richiedente</td>\n",
       "      <td>libero</td>\n",
       "      <td>Maschile</td>\n",
       "      <td>25</td>\n",
       "      <td>21-26</td>\n",
       "    </tr>\n",
       "    <tr>\n",
       "      <th>3</th>\n",
       "      <td>1592</td>\n",
       "      <td>richiedente</td>\n",
       "      <td>libero</td>\n",
       "      <td>Maschile</td>\n",
       "      <td>20</td>\n",
       "      <td>16-21</td>\n",
       "    </tr>\n",
       "    <tr>\n",
       "      <th>4</th>\n",
       "      <td>1592</td>\n",
       "      <td>richiedente</td>\n",
       "      <td>libero</td>\n",
       "      <td>Maschile</td>\n",
       "      <td>26</td>\n",
       "      <td>26-31</td>\n",
       "    </tr>\n",
       "  </tbody>\n",
       "</table>\n",
       "</div>"
      ],
      "text/plain": [
       "   anno qualita_persona     tipo    genere  eta lustro\n",
       "0  1592       testimone  atipico  Maschile   34  31-36\n",
       "1  1592     richiedente  atipico  Maschile   26  26-31\n",
       "2  1592     richiedente   libero  Maschile   25  21-26\n",
       "3  1592     richiedente   libero  Maschile   20  16-21\n",
       "4  1592     richiedente   libero  Maschile   26  26-31"
      ]
     },
     "execution_count": 383,
     "metadata": {},
     "output_type": "execute_result"
    }
   ],
   "source": [
    "df_result_list_lustres.head()"
   ]
  },
  {
   "cell_type": "code",
   "execution_count": 385,
   "metadata": {},
   "outputs": [
    {
     "data": {
      "text/html": [
       "<div>\n",
       "<style scoped>\n",
       "    .dataframe tbody tr th:only-of-type {\n",
       "        vertical-align: middle;\n",
       "    }\n",
       "\n",
       "    .dataframe tbody tr th {\n",
       "        vertical-align: top;\n",
       "    }\n",
       "\n",
       "    .dataframe thead th {\n",
       "        text-align: right;\n",
       "    }\n",
       "</style>\n",
       "<table border=\"1\" class=\"dataframe\">\n",
       "  <thead>\n",
       "    <tr style=\"text-align: right;\">\n",
       "      <th>tipo</th>\n",
       "      <th>assente</th>\n",
       "      <th>atipico</th>\n",
       "      <th>libero</th>\n",
       "      <th>vedovanza</th>\n",
       "    </tr>\n",
       "    <tr>\n",
       "      <th>lustro</th>\n",
       "      <th></th>\n",
       "      <th></th>\n",
       "      <th></th>\n",
       "      <th></th>\n",
       "    </tr>\n",
       "  </thead>\n",
       "  <tbody>\n",
       "    <tr>\n",
       "      <th>16-21</th>\n",
       "      <td>3</td>\n",
       "      <td>3</td>\n",
       "      <td>186</td>\n",
       "      <td>0</td>\n",
       "    </tr>\n",
       "    <tr>\n",
       "      <th>21-26</th>\n",
       "      <td>6</td>\n",
       "      <td>5</td>\n",
       "      <td>546</td>\n",
       "      <td>0</td>\n",
       "    </tr>\n",
       "    <tr>\n",
       "      <th>26-31</th>\n",
       "      <td>9</td>\n",
       "      <td>7</td>\n",
       "      <td>401</td>\n",
       "      <td>3</td>\n",
       "    </tr>\n",
       "    <tr>\n",
       "      <th>31-36</th>\n",
       "      <td>3</td>\n",
       "      <td>0</td>\n",
       "      <td>126</td>\n",
       "      <td>7</td>\n",
       "    </tr>\n",
       "    <tr>\n",
       "      <th>36-41</th>\n",
       "      <td>2</td>\n",
       "      <td>1</td>\n",
       "      <td>91</td>\n",
       "      <td>6</td>\n",
       "    </tr>\n",
       "    <tr>\n",
       "      <th>41-46</th>\n",
       "      <td>1</td>\n",
       "      <td>2</td>\n",
       "      <td>16</td>\n",
       "      <td>1</td>\n",
       "    </tr>\n",
       "    <tr>\n",
       "      <th>46-51</th>\n",
       "      <td>0</td>\n",
       "      <td>0</td>\n",
       "      <td>9</td>\n",
       "      <td>4</td>\n",
       "    </tr>\n",
       "    <tr>\n",
       "      <th>51-56</th>\n",
       "      <td>1</td>\n",
       "      <td>0</td>\n",
       "      <td>0</td>\n",
       "      <td>0</td>\n",
       "    </tr>\n",
       "    <tr>\n",
       "      <th>56-61</th>\n",
       "      <td>0</td>\n",
       "      <td>0</td>\n",
       "      <td>1</td>\n",
       "      <td>0</td>\n",
       "    </tr>\n",
       "    <tr>\n",
       "      <th>66-71</th>\n",
       "      <td>0</td>\n",
       "      <td>1</td>\n",
       "      <td>1</td>\n",
       "      <td>0</td>\n",
       "    </tr>\n",
       "  </tbody>\n",
       "</table>\n",
       "</div>"
      ],
      "text/plain": [
       "tipo    assente  atipico  libero  vedovanza\n",
       "lustro                                     \n",
       "16-21         3        3     186          0\n",
       "21-26         6        5     546          0\n",
       "26-31         9        7     401          3\n",
       "31-36         3        0     126          7\n",
       "36-41         2        1      91          6\n",
       "41-46         1        2      16          1\n",
       "46-51         0        0       9          4\n",
       "51-56         1        0       0          0\n",
       "56-61         0        0       1          0\n",
       "66-71         0        1       1          0"
      ]
     },
     "execution_count": 385,
     "metadata": {},
     "output_type": "execute_result"
    }
   ],
   "source": [
    "### Tableau de contingence lustres-typologie\n",
    "\n",
    "X = \"lustro\"  \n",
    "Y = \"tipo\"\n",
    "\n",
    "lustro_tipo = df_result_list_lustres[(df_result_list['qualita_persona']=='richiedente')&(df_result_list_lustres['eta']>12)&(df_result_list_lustres['eta']<100)][[X,Y]].pivot_table(index=X,columns=Y,aggfunc=len).fillna(0).astype(int) \n",
    "lustro_tipo.iloc[1:20]"
   ]
  },
  {
   "cell_type": "code",
   "execution_count": 418,
   "metadata": {},
   "outputs": [
    {
     "data": {
      "text/html": [
       "<div>\n",
       "<style scoped>\n",
       "    .dataframe tbody tr th:only-of-type {\n",
       "        vertical-align: middle;\n",
       "    }\n",
       "\n",
       "    .dataframe tbody tr th {\n",
       "        vertical-align: top;\n",
       "    }\n",
       "\n",
       "    .dataframe thead th {\n",
       "        text-align: right;\n",
       "    }\n",
       "</style>\n",
       "<table border=\"1\" class=\"dataframe\">\n",
       "  <thead>\n",
       "    <tr style=\"text-align: right;\">\n",
       "      <th>tipo</th>\n",
       "      <th>assente</th>\n",
       "      <th>atipico</th>\n",
       "      <th>libero</th>\n",
       "      <th>vedovanza</th>\n",
       "    </tr>\n",
       "    <tr>\n",
       "      <th>lustro</th>\n",
       "      <th></th>\n",
       "      <th></th>\n",
       "      <th></th>\n",
       "      <th></th>\n",
       "    </tr>\n",
       "  </thead>\n",
       "  <tbody>\n",
       "    <tr>\n",
       "      <th>16-21</th>\n",
       "      <td>3</td>\n",
       "      <td>3</td>\n",
       "      <td>186</td>\n",
       "      <td>0</td>\n",
       "    </tr>\n",
       "    <tr>\n",
       "      <th>21-26</th>\n",
       "      <td>6</td>\n",
       "      <td>5</td>\n",
       "      <td>546</td>\n",
       "      <td>0</td>\n",
       "    </tr>\n",
       "    <tr>\n",
       "      <th>26-31</th>\n",
       "      <td>9</td>\n",
       "      <td>7</td>\n",
       "      <td>401</td>\n",
       "      <td>3</td>\n",
       "    </tr>\n",
       "    <tr>\n",
       "      <th>31-36</th>\n",
       "      <td>3</td>\n",
       "      <td>0</td>\n",
       "      <td>126</td>\n",
       "      <td>7</td>\n",
       "    </tr>\n",
       "    <tr>\n",
       "      <th>36-41</th>\n",
       "      <td>2</td>\n",
       "      <td>1</td>\n",
       "      <td>91</td>\n",
       "      <td>6</td>\n",
       "    </tr>\n",
       "    <tr>\n",
       "      <th>41-46</th>\n",
       "      <td>1</td>\n",
       "      <td>2</td>\n",
       "      <td>16</td>\n",
       "      <td>1</td>\n",
       "    </tr>\n",
       "    <tr>\n",
       "      <th>46-51</th>\n",
       "      <td>0</td>\n",
       "      <td>0</td>\n",
       "      <td>9</td>\n",
       "      <td>4</td>\n",
       "    </tr>\n",
       "    <tr>\n",
       "      <th>51-56</th>\n",
       "      <td>1</td>\n",
       "      <td>0</td>\n",
       "      <td>0</td>\n",
       "      <td>0</td>\n",
       "    </tr>\n",
       "    <tr>\n",
       "      <th>56-61</th>\n",
       "      <td>0</td>\n",
       "      <td>0</td>\n",
       "      <td>1</td>\n",
       "      <td>0</td>\n",
       "    </tr>\n",
       "    <tr>\n",
       "      <th>66-71</th>\n",
       "      <td>0</td>\n",
       "      <td>1</td>\n",
       "      <td>1</td>\n",
       "      <td>0</td>\n",
       "    </tr>\n",
       "  </tbody>\n",
       "</table>\n",
       "</div>"
      ],
      "text/plain": [
       "tipo    assente  atipico  libero  vedovanza\n",
       "lustro                                     \n",
       "16-21         3        3     186          0\n",
       "21-26         6        5     546          0\n",
       "26-31         9        7     401          3\n",
       "31-36         3        0     126          7\n",
       "36-41         2        1      91          6\n",
       "41-46         1        2      16          1\n",
       "46-51         0        0       9          4\n",
       "51-56         1        0       0          0\n",
       "56-61         0        0       1          0\n",
       "66-71         0        1       1          0"
      ]
     },
     "execution_count": 418,
     "metadata": {},
     "output_type": "execute_result"
    }
   ],
   "source": [
    "### Tableau de contingence lustres-typologie\n",
    "\n",
    "X = \"lustro\"  \n",
    "Y = \"tipo\"\n",
    "\n",
    "lustro_tipo = df_result_list_lustres[(df_result_list['qualita_persona']=='richiedente')&(df_result_list_lustres['eta']>12)&(df_result_list_lustres['eta']<100)][[X,Y]].pivot_table(index=X,columns=Y,aggfunc=len).fillna(0).astype(int) \n",
    "lustro_tipo.iloc[1:20]"
   ]
  },
  {
   "cell_type": "code",
   "execution_count": 409,
   "metadata": {},
   "outputs": [
    {
     "data": {
      "image/png": "[encoded data removed]",
      "text/plain": [
       "<Figure size 1440x576 with 1 Axes>"
      ]
     },
     "metadata": {
      "needs_background": "light"
     },
     "output_type": "display_data"
    }
   ],
   "source": [
    "## https://www.shanelynn.ie/bar-plots-in-python-using-pandas-dataframes/\n",
    "axis = lustro_tipo.plot(kind=\"bar\", stacked='true', figsize=(20,8))\n"
   ]
  },
  {
   "cell_type": "markdown",
   "metadata": {},
   "source": [
    "### stacked bar chart Grouped\n",
    "https://stackoverflow.com/questions/22787209/how-to-have-clusters-of-stacked-bars-with-python-pandas"
   ]
  },
  {
   "cell_type": "markdown",
   "metadata": {},
   "source": [
    "### à faire FB : heatmap\n",
    "\n",
    "Mettre en évidence les ages où les types de Processetto 'vedovanza' sont plus fréquents"
   ]
  },
  {
   "cell_type": "markdown",
   "metadata": {},
   "source": [
    "### Témoins"
   ]
  },
  {
   "cell_type": "code",
   "execution_count": 387,
   "metadata": {},
   "outputs": [
    {
     "data": {
      "text/html": [
       "<div>\n",
       "<style scoped>\n",
       "    .dataframe tbody tr th:only-of-type {\n",
       "        vertical-align: middle;\n",
       "    }\n",
       "\n",
       "    .dataframe tbody tr th {\n",
       "        vertical-align: top;\n",
       "    }\n",
       "\n",
       "    .dataframe thead th {\n",
       "        text-align: right;\n",
       "    }\n",
       "</style>\n",
       "<table border=\"1\" class=\"dataframe\">\n",
       "  <thead>\n",
       "    <tr style=\"text-align: right;\">\n",
       "      <th>tipo</th>\n",
       "      <th>assente</th>\n",
       "      <th>atipico</th>\n",
       "      <th>libero</th>\n",
       "      <th>manca</th>\n",
       "      <th>vedovanza</th>\n",
       "    </tr>\n",
       "    <tr>\n",
       "      <th>lustro</th>\n",
       "      <th></th>\n",
       "      <th></th>\n",
       "      <th></th>\n",
       "      <th></th>\n",
       "      <th></th>\n",
       "    </tr>\n",
       "  </thead>\n",
       "  <tbody>\n",
       "    <tr>\n",
       "      <th>16-21</th>\n",
       "      <td>0</td>\n",
       "      <td>1</td>\n",
       "      <td>71</td>\n",
       "      <td>0</td>\n",
       "      <td>15</td>\n",
       "    </tr>\n",
       "    <tr>\n",
       "      <th>21-26</th>\n",
       "      <td>8</td>\n",
       "      <td>2</td>\n",
       "      <td>360</td>\n",
       "      <td>0</td>\n",
       "      <td>35</td>\n",
       "    </tr>\n",
       "    <tr>\n",
       "      <th>26-31</th>\n",
       "      <td>6</td>\n",
       "      <td>14</td>\n",
       "      <td>507</td>\n",
       "      <td>0</td>\n",
       "      <td>50</td>\n",
       "    </tr>\n",
       "    <tr>\n",
       "      <th>31-36</th>\n",
       "      <td>9</td>\n",
       "      <td>16</td>\n",
       "      <td>426</td>\n",
       "      <td>0</td>\n",
       "      <td>54</td>\n",
       "    </tr>\n",
       "    <tr>\n",
       "      <th>36-41</th>\n",
       "      <td>7</td>\n",
       "      <td>15</td>\n",
       "      <td>515</td>\n",
       "      <td>0</td>\n",
       "      <td>65</td>\n",
       "    </tr>\n",
       "    <tr>\n",
       "      <th>41-46</th>\n",
       "      <td>4</td>\n",
       "      <td>4</td>\n",
       "      <td>262</td>\n",
       "      <td>0</td>\n",
       "      <td>35</td>\n",
       "    </tr>\n",
       "    <tr>\n",
       "      <th>46-51</th>\n",
       "      <td>6</td>\n",
       "      <td>8</td>\n",
       "      <td>295</td>\n",
       "      <td>0</td>\n",
       "      <td>37</td>\n",
       "    </tr>\n",
       "    <tr>\n",
       "      <th>51-56</th>\n",
       "      <td>2</td>\n",
       "      <td>4</td>\n",
       "      <td>155</td>\n",
       "      <td>0</td>\n",
       "      <td>20</td>\n",
       "    </tr>\n",
       "    <tr>\n",
       "      <th>56-61</th>\n",
       "      <td>4</td>\n",
       "      <td>4</td>\n",
       "      <td>171</td>\n",
       "      <td>0</td>\n",
       "      <td>20</td>\n",
       "    </tr>\n",
       "    <tr>\n",
       "      <th>61-66</th>\n",
       "      <td>1</td>\n",
       "      <td>1</td>\n",
       "      <td>72</td>\n",
       "      <td>0</td>\n",
       "      <td>9</td>\n",
       "    </tr>\n",
       "    <tr>\n",
       "      <th>66-71</th>\n",
       "      <td>2</td>\n",
       "      <td>1</td>\n",
       "      <td>59</td>\n",
       "      <td>1</td>\n",
       "      <td>7</td>\n",
       "    </tr>\n",
       "    <tr>\n",
       "      <th>71-76</th>\n",
       "      <td>0</td>\n",
       "      <td>0</td>\n",
       "      <td>6</td>\n",
       "      <td>0</td>\n",
       "      <td>4</td>\n",
       "    </tr>\n",
       "    <tr>\n",
       "      <th>76-81</th>\n",
       "      <td>0</td>\n",
       "      <td>0</td>\n",
       "      <td>12</td>\n",
       "      <td>1</td>\n",
       "      <td>3</td>\n",
       "    </tr>\n",
       "    <tr>\n",
       "      <th>81-86</th>\n",
       "      <td>0</td>\n",
       "      <td>0</td>\n",
       "      <td>3</td>\n",
       "      <td>0</td>\n",
       "      <td>1</td>\n",
       "    </tr>\n",
       "    <tr>\n",
       "      <th>86-91</th>\n",
       "      <td>0</td>\n",
       "      <td>0</td>\n",
       "      <td>5</td>\n",
       "      <td>0</td>\n",
       "      <td>1</td>\n",
       "    </tr>\n",
       "    <tr>\n",
       "      <th>91-96</th>\n",
       "      <td>0</td>\n",
       "      <td>0</td>\n",
       "      <td>1</td>\n",
       "      <td>0</td>\n",
       "      <td>0</td>\n",
       "    </tr>\n",
       "    <tr>\n",
       "      <th>96-101</th>\n",
       "      <td>0</td>\n",
       "      <td>0</td>\n",
       "      <td>1</td>\n",
       "      <td>0</td>\n",
       "      <td>0</td>\n",
       "    </tr>\n",
       "  </tbody>\n",
       "</table>\n",
       "</div>"
      ],
      "text/plain": [
       "tipo    assente  atipico  libero  manca  vedovanza\n",
       "lustro                                            \n",
       "16-21         0        1      71      0         15\n",
       "21-26         8        2     360      0         35\n",
       "26-31         6       14     507      0         50\n",
       "31-36         9       16     426      0         54\n",
       "36-41         7       15     515      0         65\n",
       "41-46         4        4     262      0         35\n",
       "46-51         6        8     295      0         37\n",
       "51-56         2        4     155      0         20\n",
       "56-61         4        4     171      0         20\n",
       "61-66         1        1      72      0          9\n",
       "66-71         2        1      59      1          7\n",
       "71-76         0        0       6      0          4\n",
       "76-81         0        0      12      1          3\n",
       "81-86         0        0       3      0          1\n",
       "86-91         0        0       5      0          1\n",
       "91-96         0        0       1      0          0\n",
       "96-101        0        0       1      0          0"
      ]
     },
     "execution_count": 387,
     "metadata": {},
     "output_type": "execute_result"
    }
   ],
   "source": [
    "### Tableau de contingence lustres-typologie\n",
    "\n",
    "X = \"lustro\"  \n",
    "Y = \"tipo\"\n",
    "\n",
    "lustro_tipo_teste = df_result_list_lustres[(df_result_list['qualita_persona']=='testimone')&(df_result_list_lustres['eta']>12)&(df_result_list_lustres['eta']<100)][[X,Y]].pivot_table(index=X,columns=Y,aggfunc=len).fillna(0).astype(int) \n",
    "lustro_tipo_teste.iloc[1:20]"
   ]
  },
  {
   "cell_type": "code",
   "execution_count": 388,
   "metadata": {},
   "outputs": [
    {
     "data": {
      "image/png": "[encoded data removed]",
      "text/plain": [
       "<Figure size 1440x576 with 1 Axes>"
      ]
     },
     "metadata": {
      "needs_background": "light"
     },
     "output_type": "display_data"
    }
   ],
   "source": [
    "axis = lustro_tipo_teste.plot(kind=\"bar\", stacked=\"true\", figsize=(20,8))\n"
   ]
  },
  {
   "cell_type": "markdown",
   "metadata": {},
   "source": [
    "## Distribution des genres"
   ]
  },
  {
   "cell_type": "code",
   "execution_count": 389,
   "metadata": {},
   "outputs": [
    {
     "data": {
      "text/plain": [
       "genere\n",
       "Maschile     4759\n",
       "Femminile     565\n",
       "missing         8\n",
       "dtype: int64"
      ]
     },
     "execution_count": 389,
     "metadata": {},
     "output_type": "execute_result"
    }
   ],
   "source": [
    "a = df_result_list.groupby('genere').size()\n",
    "a.sort_values(ascending = False)"
   ]
  },
  {
   "cell_type": "code",
   "execution_count": 390,
   "metadata": {},
   "outputs": [
    {
     "data": {
      "text/plain": [
       "genere\n",
       "Maschile     1363\n",
       "Femminile     419\n",
       "missing         1\n",
       "dtype: int64"
      ]
     },
     "execution_count": 390,
     "metadata": {},
     "output_type": "execute_result"
    }
   ],
   "source": [
    "a = df_result_list[df_result_list['qualita_persona']=='richiedente'].groupby('genere').size()\n",
    "a.sort_values(ascending = False)"
   ]
  },
  {
   "cell_type": "code",
   "execution_count": 391,
   "metadata": {},
   "outputs": [
    {
     "data": {
      "text/plain": [
       "genere\n",
       "Maschile     2926\n",
       "Femminile     100\n",
       "missing         6\n",
       "dtype: int64"
      ]
     },
     "execution_count": 391,
     "metadata": {},
     "output_type": "execute_result"
    }
   ],
   "source": [
    "a = df_result_list[(df_result_list['qualita_persona']=='testimone')&(df_result_list['tipo']=='libero')].groupby('genere').size()\n",
    "a.sort_values(ascending = False)"
   ]
  },
  {
   "cell_type": "code",
   "execution_count": 404,
   "metadata": {},
   "outputs": [
    {
     "data": {
      "text/plain": [
       "[10.612321562734786, 89.38767843726522]"
      ]
     },
     "execution_count": 404,
     "metadata": {},
     "output_type": "execute_result"
    }
   ],
   "source": [
    "### Proportion des genres dans la population\n",
    "a = df_result_list[df_result_list['genere'] != 'missing'].groupby('genere').size()\n",
    "[v/sum(a.values)*100 for v in a.values]"
   ]
  },
  {
   "cell_type": "markdown",
   "metadata": {},
   "source": [
    "### FB à faire\n",
    "\n",
    "* Tableau avec comparaison de ces variables\n",
    "* Stacked plot\n",
    "\n"
   ]
  },
  {
   "cell_type": "code",
   "execution_count": null,
   "metadata": {},
   "outputs": [],
   "source": []
  },
  {
   "cell_type": "code",
   "execution_count": 246,
   "metadata": {},
   "outputs": [
    {
     "data": {
      "image/png": "[encoded data removed]",
      "text/plain": [
       "<Figure size 432x288 with 1 Axes>"
      ]
     },
     "metadata": {
      "needs_background": "light"
     },
     "output_type": "display_data"
    }
   ],
   "source": [
    "https://seaborn.pydata.org/generated/seaborn.violinplot.html\n",
    "    ax = sns.violinplot(x=\"qualita_persona\", y=\"anno\", hue=\"genere\",\n",
    "\n",
    "                    data=df_result_list[df_result_list['genere'] != 'missing'], palette=\"muted\", split=True)"
   ]
  },
  {
   "cell_type": "code",
   "execution_count": 253,
   "metadata": {},
   "outputs": [
    {
     "data": {
      "image/png": "[encoded data removed]",
      "text/plain": [
       "<Figure size 432x288 with 1 Axes>"
      ]
     },
     "metadata": {
      "needs_background": "light"
     },
     "output_type": "display_data"
    }
   ],
   "source": [
    "ax = sns.violinplot(x=\"qualita_persona\", y=\"anno\", hue=\"genere\",\n",
    "\n",
    "                    data=df_result_list[(df_result_list['genere'] != 'missing') & (df_result_list['anno'] < 1610)], palette=\"muted\", split=True)"
   ]
  },
  {
   "cell_type": "code",
   "execution_count": 252,
   "metadata": {},
   "outputs": [
    {
     "data": {
      "image/png": "[encoded data removed]",
      "text/plain": [
       "<Figure size 432x288 with 1 Axes>"
      ]
     },
     "metadata": {
      "needs_background": "light"
     },
     "output_type": "display_data"
    }
   ],
   "source": [
    "ax = sns.violinplot(x=\"genere\", y=\"anno\",\n",
    "\n",
    "                    data=df_result_list[(df_result_list['genere'] != 'missing') & (df_result_list['anno'] < 1610)], palette=\"muted\", split=True)"
   ]
  },
  {
   "cell_type": "markdown",
   "metadata": {},
   "source": [
    "### à faire FB: Ajouter diagrammes à barre pour les genres\n",
    "\n",
    "Représenter les données annuelles en diagramme à barres (stacked barplot) en relation avec les types de processetto\n",
    "\n",
    "----\n",
    "\n"
   ]
  },
  {
   "cell_type": "code",
   "execution_count": 284,
   "metadata": {},
   "outputs": [
    {
     "data": {
      "image/png": "[encoded data removed]",
      "text/plain": [
       "<Figure size 951.75x288 with 1 Axes>"
      ]
     },
     "metadata": {
      "needs_background": "light"
     },
     "output_type": "display_data"
    }
   ],
   "source": [
    "ax = sns.catplot(x=\"anno\", y=\"tipo\", hue=\"genere\",# hue=\"qualita_persona\", genere\n",
    "\n",
    "                    data=df_result_list[(df_result_list['genere'] != 'missing') & (df_result_list['anno'] < 1610)], \n",
    "                    orient=\"h\", height=4, aspect=3, \n",
    "\n",
    "                kind=\"violin\",  bw=.3, palette=\"muted\", split=True)\n",
    "# dodge=True,"
   ]
  },
  {
   "cell_type": "code",
   "execution_count": 275,
   "metadata": {},
   "outputs": [
    {
     "data": {
      "image/png": "[encoded data removed]",
      "text/plain": [
       "<Figure size 970.625x288 with 1 Axes>"
      ]
     },
     "metadata": {
      "needs_background": "light"
     },
     "output_type": "display_data"
    }
   ],
   "source": [
    "ax = sns.catplot(x=\"anno\", y=\"tipe\", hue=\"qualita_persona\",\n",
    "\n",
    "                    data=df_result_list[(df_result_list['genere'] != 'missing') & (df_result_list['anno'] < 1610)], \n",
    "                    orient=\"h\", height=4, aspect=3, \n",
    "\n",
    "                kind=\"box\",  palette=\"muted\")\n",
    "# dodge=True,"
   ]
  },
  {
   "cell_type": "code",
   "execution_count": null,
   "metadata": {},
   "outputs": [],
   "source": []
  },
  {
   "cell_type": "markdown",
   "metadata": {},
   "source": [
    "### Effectifs par type de processetto"
   ]
  },
  {
   "cell_type": "code",
   "execution_count": 25,
   "metadata": {},
   "outputs": [
    {
     "data": {
      "text/plain": [
       "tipo_primo_processetto\n",
       "                                                                                    3844\n",
       "Stato libero di “foresto”                                                           1517\n",
       "Vedovanza                                                                            191\n",
       "Stato libero di “foresto” #Processetto atipico                                        16\n",
       "Stato libero di “foresto” #Stato libero di persona lungamente assente da Venezia      14\n",
       "Processetto atipico                                                                   13\n",
       "Stato libero di persona lungamente assente da Venezia                                 13\n",
       "Vedovanza#Stato libero di “foresto”                                                   12\n",
       "Vedovanza#Processetto atipico                                                          8\n",
       "Processetto atipico #Stato libero di persona lungamente assente da Venezia             2\n",
       "dtype: int64"
      ]
     },
     "execution_count": 25,
     "metadata": {},
     "output_type": "execute_result"
    }
   ],
   "source": [
    "### Regrouper par type de processetto\n",
    "gb_pl_df = pl_df.groupby('tipo_primo_processetto').size()\n",
    "gb_pl_df.sort_values(ascending = False)"
   ]
  },
  {
   "cell_type": "code",
   "execution_count": null,
   "metadata": {},
   "outputs": [],
   "source": []
  },
  {
   "cell_type": "code",
   "execution_count": null,
   "metadata": {},
   "outputs": [],
   "source": []
  },
  {
   "cell_type": "code",
   "execution_count": null,
   "metadata": {},
   "outputs": [],
   "source": []
  },
  {
   "cell_type": "code",
   "execution_count": null,
   "metadata": {},
   "outputs": [],
   "source": []
  },
  {
   "cell_type": "markdown",
   "metadata": {},
   "source": [
    "### Nombre de processetti / témoignages par personne\n",
    "\n",
    "Ces requêtes peuvent être utiliser pour vérifer les données"
   ]
  },
  {
   "cell_type": "code",
   "execution_count": 459,
   "metadata": {},
   "outputs": [
    {
     "data": {
      "text/plain": [
       "numero_processetti\n",
       "0    3834\n",
       "1    1777\n",
       "2       2\n",
       "dtype: int64"
      ]
     },
     "execution_count": 459,
     "metadata": {},
     "output_type": "execute_result"
    }
   ],
   "source": [
    "### Nombre de processetti par personne\n",
    "# Colonnes : effectif processetti par personne, effectif personne avec cet effectif\n",
    "gb_pl_df = pl_df.groupby('numero_processetti').size()\n",
    "gb_pl_df.sort_values(ascending = False)"
   ]
  },
  {
   "cell_type": "code",
   "execution_count": 26,
   "metadata": {},
   "outputs": [
    {
     "data": {
      "text/plain": [
       "numero_testimonianze\n",
       "1    3415\n",
       "0    2072\n",
       "2     119\n",
       "3       6\n",
       "4       1\n",
       "dtype: int64"
      ]
     },
     "execution_count": 26,
     "metadata": {},
     "output_type": "execute_result"
    }
   ],
   "source": [
    "### Nombre de témoignages par personne\n",
    "# Colonnes : effectif témoignages par personne, effectif personne avec cet effectif\n",
    "gb_pl_df = pl_df.groupby('numero_testimonianze').size()\n",
    "gb_pl_df.sort_values(ascending = False)"
   ]
  },
  {
   "cell_type": "code",
   "execution_count": null,
   "metadata": {},
   "outputs": [],
   "source": [
    "### Nombre de processetti par personne\n",
    "pl_df[pl_df['numero_testimonianze']==3]\n"
   ]
  },
  {
   "cell_type": "code",
   "execution_count": null,
   "metadata": {},
   "outputs": [],
   "source": []
  },
  {
   "cell_type": "code",
   "execution_count": null,
   "metadata": {
    "scrolled": true,
    "tags": []
   },
   "outputs": [],
   "source": [
    "pl_df.iloc[50:60]"
   ]
  },
  {
   "cell_type": "code",
   "execution_count": 28,
   "metadata": {
    "tags": []
   },
   "outputs": [],
   "source": [
    "pl_df['eta'] = pl_df['anno_primo_processetto']-pl_df['anno_nascita']"
   ]
  },
  {
   "cell_type": "code",
   "execution_count": null,
   "metadata": {
    "scrolled": true,
    "tags": []
   },
   "outputs": [],
   "source": [
    "### Regrouper (directement, sans passer par la liste) par continent et compter avec la fonction Pandas 'groupby'\n",
    "gb_pl_df = pl_df[pl_df['id_primo_processetto']>0].groupby('eta').size()\n",
    "#gb_pl_df.sort_values(ascending = False)\n",
    "gb_pl_df.sort_index()"
   ]
  },
  {
   "cell_type": "code",
   "execution_count": null,
   "metadata": {
    "scrolled": true,
    "tags": []
   },
   "outputs": [],
   "source": [
    "### Transformer l'objet Series en DataFrame et ajouter le nom de la colonne 'effectif'\n",
    "# la colonne 'continent' est l'index : df_coded_nat.index\n",
    "df_gb_pl_df = gb_pl_df.to_frame()\n",
    "df_gb_pl_df.columns = ['effectif']\n",
    "df_gb_pl_df.reset_index()"
   ]
  },
  {
   "cell_type": "code",
   "execution_count": 60,
   "metadata": {
    "tags": []
   },
   "outputs": [
    {
     "data": {
      "image/png": "[encoded data removed]",
      "text/plain": [
       "<Figure size 1152x576 with 1 Axes>"
      ]
     },
     "metadata": {
      "needs_background": "light"
     },
     "output_type": "display_data"
    }
   ],
   "source": [
    "# Distribution par année\n",
    "\n",
    "objects = [l for l in df_gb_pl_df.index][4:-1]\n",
    "eff = [l for l in df_gb_pl_df['effectif']][4:-1]\n",
    "\n",
    "p1 = plt.bar(objects, eff)\n",
    "\n",
    "#plt.xticks(l5Years)\n",
    "plt.ylabel('Effectif')\n",
    "plt.title('Effectif par age')\n",
    "plt.gcf().set_size_inches(16, 8)\n",
    "#plt.gca().axes.get_xaxis().set_visible(False)\n",
    "# supported formats: eps, pdf, pgf, png, ps, raw, rgba, svg, svgz\n",
    "#plt.savefig('exported_pictures/effectifs_naissances_par_annee.png', dpi=100, bbox_inches = \"tight\") #pdf, svg\n",
    "plt.xticks(rotation=45)\n",
    "plt.show()\n"
   ]
  },
  {
   "cell_type": "markdown",
   "metadata": {},
   "source": [
    "### à faire par FB: stacked bar par catégories"
   ]
  },
  {
   "cell_type": "code",
   "execution_count": null,
   "metadata": {},
   "outputs": [],
   "source": []
  },
  {
   "cell_type": "code",
   "execution_count": null,
   "metadata": {},
   "outputs": [],
   "source": []
  },
  {
   "cell_type": "code",
   "execution_count": null,
   "metadata": {
    "scrolled": true,
    "tags": []
   },
   "outputs": [],
   "source": [
    "### Regrouper (directement, sans passer par la liste) par continent et compter avec la fonction Pandas 'groupby'\n",
    "gb_pl_df = pl_df[(pl_df['id_primo_processetto']>0)&(pl_df['genere']=='Femminile')].groupby('eta').size()\n",
    "#gb_pl_df.sort_values(ascending = False)\n",
    "gb_pl_df.sort_index()"
   ]
  },
  {
   "cell_type": "code",
   "execution_count": null,
   "metadata": {
    "scrolled": true,
    "tags": []
   },
   "outputs": [],
   "source": [
    "gb_pl_df = pl_df[(pl_df['id_primo_processetto']>0)].groupby(['eta', 'genere']).size()\n",
    "gb_pl_df.iloc[50:70]"
   ]
  },
  {
   "cell_type": "code",
   "execution_count": 45,
   "metadata": {
    "scrolled": true,
    "tags": []
   },
   "outputs": [],
   "source": [
    "### Transformer l'objet Series en DataFrame et ajouter le nom de la colonne 'effectif'\n",
    "# la colonne 'continent' est l'index : df_coded_nat.index\n",
    "df_gb_pl_df = gb_pl_df.to_frame()\n",
    "df_gb_pl_df.columns = ['effectif']\n",
    "df_gb_pl_df = df_gb_pl_df.reset_index()"
   ]
  },
  {
   "cell_type": "code",
   "execution_count": null,
   "metadata": {
    "scrolled": true,
    "tags": []
   },
   "outputs": [],
   "source": [
    "df_gb_pl_df.iloc[50:80]"
   ]
  },
  {
   "cell_type": "code",
   "execution_count": null,
   "metadata": {},
   "outputs": [],
   "source": []
  },
  {
   "cell_type": "code",
   "execution_count": null,
   "metadata": {},
   "outputs": [],
   "source": []
  },
  {
   "cell_type": "code",
   "execution_count": null,
   "metadata": {
    "scrolled": true,
    "tags": []
   },
   "outputs": [],
   "source": [
    "df_gb_pl_df.values.tolist()"
   ]
  },
  {
   "cell_type": "code",
   "execution_count": 71,
   "metadata": {},
   "outputs": [
    {
     "data": {
      "text/plain": [
       "array([66, 67, 68, 69, 70])"
      ]
     },
     "execution_count": 71,
     "metadata": {},
     "output_type": "execute_result"
    }
   ],
   "source": [
    "liste_ages = pd.RangeIndex(10, 71).to_series()\n",
    "liste_ages.tail().values"
   ]
  },
  {
   "cell_type": "code",
   "execution_count": null,
   "metadata": {},
   "outputs": [],
   "source": [
    "for l in liste_ages[:10]:\n",
    "    for e in df_gb_pl_df.values.tolist():\n",
    "        if int(l) == int(e[0]) & e[1] == 'Maschile':\n",
    "            print(e[2])"
   ]
  },
  {
   "cell_type": "code",
   "execution_count": null,
   "metadata": {},
   "outputs": [],
   "source": [
    "liste_ages_genres = ['eta', 'maschile', 'femminile']\n",
    "for l in liste_ages:\n",
    "    for e in df_gb_pl_df.values.tolist():\n",
    "        if l[0] == e[0] & e[1] == 'Maschile':\n",
    "            m = e[2]\n",
    "        else:\n",
    "            m = 0\n",
    "        if l[0] == e[0] & e[1] == 'Femminile':\n",
    "            f = e[2]\n",
    "        else:\n",
    "            f = 0\n",
    "        liste_ages_genres.append([l[0], m, f])    \n",
    "    "
   ]
  },
  {
   "cell_type": "code",
   "execution_count": null,
   "metadata": {},
   "outputs": [],
   "source": []
  },
  {
   "cell_type": "code",
   "execution_count": null,
   "metadata": {},
   "outputs": [],
   "source": []
  },
  {
   "cell_type": "code",
   "execution_count": null,
   "metadata": {},
   "outputs": [],
   "source": []
  },
  {
   "cell_type": "code",
   "execution_count": null,
   "metadata": {},
   "outputs": [],
   "source": [
    "gb_pl_df.pivot(index=gb_pl_df.index, columns=['genere'])['effectif']"
   ]
  },
  {
   "cell_type": "code",
   "execution_count": null,
   "metadata": {},
   "outputs": [],
   "source": [
    "df_gb_pl_df.set_index([df_gb_pl_df.index, 'genere'])['effectif','age'].unstack()"
   ]
  },
  {
   "cell_type": "code",
   "execution_count": null,
   "metadata": {},
   "outputs": [],
   "source": []
  },
  {
   "cell_type": "code",
   "execution_count": 65,
   "metadata": {},
   "outputs": [
    {
     "data": {
      "text/html": [
       "<div>\n",
       "<style scoped>\n",
       "    .dataframe tbody tr th:only-of-type {\n",
       "        vertical-align: middle;\n",
       "    }\n",
       "\n",
       "    .dataframe tbody tr th {\n",
       "        vertical-align: top;\n",
       "    }\n",
       "\n",
       "    .dataframe thead tr th {\n",
       "        text-align: left;\n",
       "    }\n",
       "</style>\n",
       "<table border=\"1\" class=\"dataframe\">\n",
       "  <thead>\n",
       "    <tr>\n",
       "      <th></th>\n",
       "      <th colspan=\"3\" halign=\"left\">effectif</th>\n",
       "      <th colspan=\"3\" halign=\"left\">eta</th>\n",
       "    </tr>\n",
       "    <tr>\n",
       "      <th>genere</th>\n",
       "      <th>Femminile</th>\n",
       "      <th>Maschile</th>\n",
       "      <th>missing</th>\n",
       "      <th>Femminile</th>\n",
       "      <th>Maschile</th>\n",
       "      <th>missing</th>\n",
       "    </tr>\n",
       "  </thead>\n",
       "  <tbody>\n",
       "    <tr>\n",
       "      <th>0</th>\n",
       "      <td>1.0</td>\n",
       "      <td>NaN</td>\n",
       "      <td>NaN</td>\n",
       "      <td>-515.0</td>\n",
       "      <td>NaN</td>\n",
       "      <td>NaN</td>\n",
       "    </tr>\n",
       "    <tr>\n",
       "      <th>1</th>\n",
       "      <td>NaN</td>\n",
       "      <td>3.0</td>\n",
       "      <td>NaN</td>\n",
       "      <td>NaN</td>\n",
       "      <td>8.0</td>\n",
       "      <td>NaN</td>\n",
       "    </tr>\n",
       "    <tr>\n",
       "      <th>2</th>\n",
       "      <td>NaN</td>\n",
       "      <td>1.0</td>\n",
       "      <td>NaN</td>\n",
       "      <td>NaN</td>\n",
       "      <td>9.0</td>\n",
       "      <td>NaN</td>\n",
       "    </tr>\n",
       "    <tr>\n",
       "      <th>3</th>\n",
       "      <td>NaN</td>\n",
       "      <td>1.0</td>\n",
       "      <td>NaN</td>\n",
       "      <td>NaN</td>\n",
       "      <td>11.0</td>\n",
       "      <td>NaN</td>\n",
       "    </tr>\n",
       "    <tr>\n",
       "      <th>4</th>\n",
       "      <td>1.0</td>\n",
       "      <td>NaN</td>\n",
       "      <td>NaN</td>\n",
       "      <td>14.0</td>\n",
       "      <td>NaN</td>\n",
       "      <td>NaN</td>\n",
       "    </tr>\n",
       "    <tr>\n",
       "      <th>...</th>\n",
       "      <td>...</td>\n",
       "      <td>...</td>\n",
       "      <td>...</td>\n",
       "      <td>...</td>\n",
       "      <td>...</td>\n",
       "      <td>...</td>\n",
       "    </tr>\n",
       "    <tr>\n",
       "      <th>75</th>\n",
       "      <td>NaN</td>\n",
       "      <td>1.0</td>\n",
       "      <td>NaN</td>\n",
       "      <td>NaN</td>\n",
       "      <td>58.0</td>\n",
       "      <td>NaN</td>\n",
       "    </tr>\n",
       "    <tr>\n",
       "      <th>76</th>\n",
       "      <td>NaN</td>\n",
       "      <td>1.0</td>\n",
       "      <td>NaN</td>\n",
       "      <td>NaN</td>\n",
       "      <td>60.0</td>\n",
       "      <td>NaN</td>\n",
       "    </tr>\n",
       "    <tr>\n",
       "      <th>77</th>\n",
       "      <td>NaN</td>\n",
       "      <td>1.0</td>\n",
       "      <td>NaN</td>\n",
       "      <td>NaN</td>\n",
       "      <td>68.0</td>\n",
       "      <td>NaN</td>\n",
       "    </tr>\n",
       "    <tr>\n",
       "      <th>78</th>\n",
       "      <td>NaN</td>\n",
       "      <td>1.0</td>\n",
       "      <td>NaN</td>\n",
       "      <td>NaN</td>\n",
       "      <td>70.0</td>\n",
       "      <td>NaN</td>\n",
       "    </tr>\n",
       "    <tr>\n",
       "      <th>79</th>\n",
       "      <td>NaN</td>\n",
       "      <td>1.0</td>\n",
       "      <td>NaN</td>\n",
       "      <td>NaN</td>\n",
       "      <td>117.0</td>\n",
       "      <td>NaN</td>\n",
       "    </tr>\n",
       "  </tbody>\n",
       "</table>\n",
       "<p>80 rows × 6 columns</p>\n",
       "</div>"
      ],
      "text/plain": [
       "        effectif                        eta                 \n",
       "genere Femminile Maschile missing Femminile Maschile missing\n",
       "0            1.0      NaN     NaN    -515.0      NaN     NaN\n",
       "1            NaN      3.0     NaN       NaN      8.0     NaN\n",
       "2            NaN      1.0     NaN       NaN      9.0     NaN\n",
       "3            NaN      1.0     NaN       NaN     11.0     NaN\n",
       "4            1.0      NaN     NaN      14.0      NaN     NaN\n",
       "..           ...      ...     ...       ...      ...     ...\n",
       "75           NaN      1.0     NaN       NaN     58.0     NaN\n",
       "76           NaN      1.0     NaN       NaN     60.0     NaN\n",
       "77           NaN      1.0     NaN       NaN     68.0     NaN\n",
       "78           NaN      1.0     NaN       NaN     70.0     NaN\n",
       "79           NaN      1.0     NaN       NaN    117.0     NaN\n",
       "\n",
       "[80 rows x 6 columns]"
      ]
     },
     "execution_count": 65,
     "metadata": {},
     "output_type": "execute_result"
    }
   ],
   "source": [
    "df_gb_pl_df.pivot_table(values=['eta','effectif'], index=df_gb_pl_df.index, columns='genere', aggfunc='first')"
   ]
  },
  {
   "cell_type": "code",
   "execution_count": null,
   "metadata": {
    "scrolled": true,
    "tags": []
   },
   "outputs": [],
   "source": [
    "### Regrouper (directement, sans passer par la liste) par continent et compter avec la fonction Pandas 'groupby'\n",
    "gb_pl_df = pl_df[pl_df['id_primo_processetto']>0].groupby('mestieri').size()\n",
    "gb_pl_df.sort_values(ascending = False)\n",
    "#gb_pl_df.sort_index()"
   ]
  },
  {
   "cell_type": "code",
   "execution_count": null,
   "metadata": {
    "scrolled": true,
    "tags": []
   },
   "outputs": [],
   "source": [
    "### Transformer l'objet Series en DataFrame et ajouter le nom de la colonne 'effectif'\n",
    "# la colonne 'continent' est l'index : df_coded_nat.index\n",
    "df_gb_pl_df = gb_pl_df.sort_values(ascending = False).to_frame()\n",
    "df_gb_pl_df.columns = ['effectif']\n",
    "df_gb_pl_df"
   ]
  },
  {
   "cell_type": "code",
   "execution_count": null,
   "metadata": {
    "scrolled": true,
    "tags": []
   },
   "outputs": [],
   "source": [
    "[[df_gb_pl_df.columns.tolist()] + df_gb_pl_df.reset_index().values.tolist()]"
   ]
  },
  {
   "cell_type": "code",
   "execution_count": null,
   "metadata": {
    "tags": []
   },
   "outputs": [],
   "source": []
  },
  {
   "cell_type": "code",
   "execution_count": null,
   "metadata": {},
   "outputs": [],
   "source": []
  },
  {
   "cell_type": "code",
   "execution_count": null,
   "metadata": {},
   "outputs": [],
   "source": []
  },
  {
   "cell_type": "code",
   "execution_count": null,
   "metadata": {},
   "outputs": [],
   "source": []
  },
  {
   "cell_type": "code",
   "execution_count": null,
   "metadata": {},
   "outputs": [],
   "source": []
  },
  {
   "cell_type": "code",
   "execution_count": null,
   "metadata": {},
   "outputs": [],
   "source": []
  },
  {
   "cell_type": "markdown",
   "metadata": {},
   "source": [
    "## Mettre 'à plat' le fichier – Préparation\n",
    "\n",
    "Il s'agit de disposer de données agrégées afin de pouvoir effectuer plus facilement les analyses"
   ]
  },
  {
   "cell_type": "code",
   "execution_count": 14,
   "metadata": {},
   "outputs": [
    {
     "data": {
      "text/plain": [
       "[(81417, 'Tommaso di Lorenzo Spilman (tedesco)')]"
      ]
     },
     "execution_count": 14,
     "metadata": {},
     "output_type": "execute_result"
    }
   ],
   "source": [
    "### Person\n",
    "[(r.col_0.entity.pk_entity, r.col_0.entity.entity_label) for r in dm_r[0:1]]\n"
   ]
  },
  {
   "cell_type": "code",
   "execution_count": 81,
   "metadata": {},
   "outputs": [
    {
     "data": {
      "text/plain": [
       "['Maschile']"
      ]
     },
     "execution_count": 81,
     "metadata": {},
     "output_type": "execute_result"
    }
   ],
   "source": [
    "### Gender\n",
    "# La première entrée est retenue (normalement il n'y en a pas plus)\n",
    "[r.col_1.entities[0].entity_label if r.col_1 else 'missing' for r in dm_r[0:1]]"
   ]
  },
  {
   "cell_type": "code",
   "execution_count": 83,
   "metadata": {},
   "outputs": [
    {
     "data": {
      "text/plain": [
       "[['Modena(1083842)'],\n",
       " ['Costae diocesis Adriensis(1083910)'],\n",
       " [],\n",
       " ['Zurbao (1084309)'],\n",
       " ['Territorio di Milano(755887)', 'Rancio (1084720)'],\n",
       " ['Territorio di Udine(759336)'],\n",
       " ['Territorio di Brescia(768454)'],\n",
       " ['Ballobia (1084355)', 'Dioecesis Palentina(1084368)'],\n",
       " [],\n",
       " []]"
      ]
     },
     "execution_count": 83,
     "metadata": {},
     "output_type": "execute_result"
    }
   ],
   "source": [
    "### Origin\n",
    "# Plusieurs origines son possibles pour une même personne : laquelle retenir ?\n",
    "[[p.entity_label + '('+ str(p.pk_entity) +')' for p in r.col_5.entities] for r in dm_r[10:20]]"
   ]
  },
  {
   "cell_type": "code",
   "execution_count": 84,
   "metadata": {},
   "outputs": [
    {
     "data": {
      "text/plain": [
       "[['mercante de panni (763128)'],\n",
       " ['boter(752920)'],\n",
       " [],\n",
       " ['portador da vin(748738)'],\n",
       " [],\n",
       " ['mariner(747734)', 'servir in bottega de luganegher (754028)'],\n",
       " ['pestriner(749677)', 'latter(749702)'],\n",
       " ['verghezin (748828)'],\n",
       " ['verghezin (748828)'],\n",
       " ['verghezin (748828)']]"
      ]
     },
     "execution_count": 84,
     "metadata": {},
     "output_type": "execute_result"
    }
   ],
   "source": [
    "### Occupation\n",
    "# Plusieurs métiers sont possibles pour la même personne\n",
    "[[p.entity_label + '('+ str(p.pk_entity) +')' for p in r.col_4.entities] for r in dm_r[40:50]]"
   ]
  },
  {
   "cell_type": "code",
   "execution_count": null,
   "metadata": {
    "scrolled": true,
    "tags": []
   },
   "outputs": [],
   "source": [
    "### Occupation\n",
    "# Plusieurs métiers sont possibles pour la même personne\n",
    "t1 = pd.DataFrame([[p.entity_label + '('+ str(p.pk_entity) +')' for p in r.col_4.entities][0] for r in dm_r if r.col_4.entities], columns=['occupation'])\n",
    "t2 = t1.groupby('occupation').size()\n",
    "t3 = t2.sort_values(ascending = False)\n",
    "pd.DataFrame(t3,columns=['effectif']).reset_index().iloc[:50]"
   ]
  },
  {
   "cell_type": "code",
   "execution_count": 310,
   "metadata": {
    "tags": []
   },
   "outputs": [
    {
     "name": "stdout",
     "output_type": "stream",
     "text": [
      "747846\n",
      "1527\n",
      "-----\n",
      "748299\n",
      "1578 [1577, 1579]\n",
      "-----\n",
      "748322\n",
      "1564 [1562, 1567]\n",
      "-----\n",
      "748378\n",
      "1537\n",
      "-----\n"
     ]
    }
   ],
   "source": [
    "### Année de naissance\n",
    "# Plusieurs années sont renseignées (ad quem, a quo) : la moyenne arrondie est retenue\n",
    "for r in dm_r[36:40]:\n",
    "    print(r.col_0.entity.pk_entity)\n",
    "    values = []\n",
    "    for v in r.col_2['values']:\n",
    "        if v.value.timePrimitive:\n",
    "            values.append(int(v.value.timePrimitive['from'].calGregorian[:4]))\n",
    "    if len(values) > 1:\n",
    "        print(int(round(np.rint(np.mean(values)))), values)\n",
    "    elif len(values) > 0:    \n",
    "        print(values[0])\n",
    "    else:\n",
    "        print(None)\n",
    "    print('-----')       "
   ]
  },
  {
   "cell_type": "code",
   "execution_count": null,
   "metadata": {
    "scrolled": true,
    "tags": []
   },
   "outputs": [],
   "source": [
    "### Année processetto\n",
    "for r in dm_r[50:60]:\n",
    "    print(r.col_0.entity.pk_entity)\n",
    "    values = []\n",
    "    for v in r.col_7['values']:\n",
    "        if v.value.timePrimitive:\n",
    "            values.append(int(v.value.timePrimitive['from'].calGregorian[:4]))\n",
    "    if len(values) > 1:\n",
    "        print(int(round(np.rint(np.mean(values)))), values)\n",
    "    elif len(values) > 0:    \n",
    "        print(values[0])\n",
    "    else:\n",
    "        print(None)\n",
    "    print('-----')       "
   ]
  },
  {
   "cell_type": "code",
   "execution_count": null,
   "metadata": {
    "scrolled": true,
    "tags": []
   },
   "outputs": [],
   "source": [
    "### Années union\n",
    "# Plusieurs années sont renseignées (ad quem, a quo) : la moyenne arrondie est retenue\n",
    "for r in dm_r[:500]:\n",
    "    \n",
    "    values = []\n",
    "    for v in r.col_13['values']:\n",
    "        if v.value.timePrimitive:\n",
    "            values.append(int(v.value.timePrimitive['from'].calGregorian[:4]))\n",
    "            values.append(int(v.value.timePrimitive['to'].calGregorian[:4]))\n",
    "    if len(values) > 1:\n",
    "        print(r.col_0.entity.pk_entity)\n",
    "        print(int(round(np.rint(np.mean(values)))), values)\n",
    "        print('-----')       \n",
    "    elif len(values) > 0:  \n",
    "        print(r.col_0.entity.pk_entity)\n",
    "        print(values[0])\n",
    "        print('-----')       \n",
    "    else:\n",
    "        pass\n",
    "        # print(r.col_0.entity.pk_entity)\n",
    "        # print(None)\n",
    "        # print('-----')       "
   ]
  },
  {
   "cell_type": "code",
   "execution_count": null,
   "metadata": {},
   "outputs": [],
   "source": []
  },
  {
   "cell_type": "markdown",
   "metadata": {},
   "source": [
    "### Bouts de code à ranger ou éliminer"
   ]
  },
  {
   "cell_type": "code",
   "execution_count": 113,
   "metadata": {},
   "outputs": [],
   "source": [
    "### Transformation en dictionnaire \n",
    "pl_dict = pl_df.to_dict('records')"
   ]
  },
  {
   "cell_type": "code",
   "execution_count": 358,
   "metadata": {},
   "outputs": [
    {
     "data": {
      "text/plain": [
       "\"[{'id_persona': 81417, 'nome': 'Tommaso di Lorenzo Spilman (tedesco)', 'anno_nascita': 1558.0, 'genere': 'Maschile', 'luogo_origine': 'Alemania(753623)', 'mestieri': '', 'numero_processetti': 0, 'id_primo_processetto': 0, 'anno_primo_processetto': nan, 'tipo_primo_processetto': '', 'numero_testimonianze': 1, 'id_prima_testimonianza': 739330, 'anno_prima_testimonianza': 1592.0, 'tipo_prima_testimonianza': 'Stato libero di “foresto” #Processetto atipico ', 'date_unions': nan}, {'id_persona': 81461, 'nome': 'Gieremia Vais', 'anno_nascita': nan, 'genere': 'Maschile', 'luogo_origine': '', 'mestieri': '', 'numero_processetti': 0, 'id_primo_processetto': 0, 'anno_primo_processetto': nan, 'tipo_primo_processetto': '', 'numero_testimonianze': 0, 'id_prima_testimonianza': 0, 'anno_prima_testimonianza': nan, 'tipo_prima_testimonianza': '', 'date_unions': nan}, {'id_persona': 81648, 'nome': 'Limoletti, Domenico', 'anno_nascita': nan, 'genere': 'Maschile', 'luogo_origine': '', 'mestieri': '', 'nume\""
      ]
     },
     "execution_count": 358,
     "metadata": {},
     "output_type": "execute_result"
    }
   ],
   "source": [
    "str(pl_dict)[:1000]"
   ]
  },
  {
   "cell_type": "code",
   "execution_count": null,
   "metadata": {},
   "outputs": [],
   "source": []
  },
  {
   "cell_type": "code",
   "execution_count": null,
   "metadata": {},
   "outputs": [],
   "source": []
  },
  {
   "cell_type": "code",
   "execution_count": null,
   "metadata": {},
   "outputs": [],
   "source": []
  },
  {
   "cell_type": "markdown",
   "metadata": {},
   "source": [
    "### Gender"
   ]
  },
  {
   "cell_type": "code",
   "execution_count": 13,
   "metadata": {},
   "outputs": [
    {
     "data": {
      "text/plain": [
       "['Maschile', 'Maschile', 'Maschile', 'Maschile', 'Maschile']"
      ]
     },
     "execution_count": 13,
     "metadata": {},
     "output_type": "execute_result"
    }
   ],
   "source": [
    "[r.col_1.entities[0].entity_label if r.col_1 else 'missing' for r in dm_r[0:5]]"
   ]
  },
  {
   "cell_type": "code",
   "execution_count": 14,
   "metadata": {},
   "outputs": [
    {
     "name": "stdout",
     "output_type": "stream",
     "text": [
      "['Maschile', 'Maschile', 'Maschile', 'Maschile', 'Maschile', 'Maschile']\n"
     ]
    },
    {
     "data": {
      "text/plain": [
       "5608"
      ]
     },
     "execution_count": 14,
     "metadata": {},
     "output_type": "execute_result"
    }
   ],
   "source": [
    "### gender list -> gl\n",
    "gl = [r.col_1.entities[0].entity_label if r.col_1.entities else 'missing' for r in dm_r]\n",
    "print(gl[101:107])\n",
    "len(gl)"
   ]
  },
  {
   "cell_type": "code",
   "execution_count": 15,
   "metadata": {},
   "outputs": [
    {
     "name": "stdout",
     "output_type": "stream",
     "text": [
      "{'Maschile': 4935, 'Femminile': 636, 'missing': 37}\n"
     ]
    },
    {
     "data": {
      "text/plain": [
       "3"
      ]
     },
     "execution_count": 15,
     "metadata": {},
     "output_type": "execute_result"
    }
   ],
   "source": [
    "D = dict(Counter(gl))\n",
    "print(D)\n",
    "len(D)"
   ]
  },
  {
   "cell_type": "code",
   "execution_count": 16,
   "metadata": {},
   "outputs": [
    {
     "data": {
      "image/png": "[encoded data removed]",
      "text/plain": [
       "<Figure size 432x288 with 1 Axes>"
      ]
     },
     "metadata": {
      "needs_background": "light"
     },
     "output_type": "display_data"
    }
   ],
   "source": [
    "plt.bar(range(len(D)), list(D.values()), align='center', width=0.7)\n",
    "plt.xticks(range(len(D)), list(D.keys()))\n",
    "plt.show()"
   ]
  },
  {
   "cell_type": "code",
   "execution_count": null,
   "metadata": {},
   "outputs": [],
   "source": []
  },
  {
   "cell_type": "markdown",
   "metadata": {},
   "source": [
    "## Age by category"
   ]
  },
  {
   "cell_type": "code",
   "execution_count": null,
   "metadata": {
    "scrolled": true
   },
   "outputs": [],
   "source": [
    "# [pprint.pprint(r) for r in rows[50:100]]"
   ]
  },
  {
   "cell_type": "code",
   "execution_count": null,
   "metadata": {},
   "outputs": [],
   "source": [
    "def get_entities_JD(entities):\n",
    "    result = []\n",
    "    for e in entities:\n",
    "        if e.time_span.p82.julianDay:\n",
    "            result.append({'pk_teen' : e.pk_entity, 'JD' : e.time_span.p82.julianDay})\n",
    "        elif e.time_span.p81a.julianDay:\n",
    "            result.append({'pk_teen' : e.pk_entity, 'JD' : e.time_span.p81a.julianDay})\n",
    "        elif e.time_span.p82a.julianDay:\n",
    "            result.append({'pk_teen' : e.pk_entity, 'JD' : e.time_span.p82a.julianDay})\n",
    "        else:\n",
    "            result.append(None)\n",
    "\n",
    "    return result\n",
    "\n",
    "def get_entities_label(entities):\n",
    "    result = []\n",
    "    for e in entities:\n",
    "        if e.entity_label:\n",
    "            result.append(e.entity_label)\n",
    "        else:\n",
    "            result.append(None)\n",
    "\n",
    "    return result"
   ]
  },
  {
   "cell_type": "code",
   "execution_count": null,
   "metadata": {},
   "outputs": [],
   "source": []
  },
  {
   "cell_type": "code",
   "execution_count": null,
   "metadata": {},
   "outputs": [],
   "source": [
    "ageOccupationProcessetto = []\n",
    "for r in dm_r: #[299:303]:\n",
    "    \n",
    "    ## person identifier\n",
    "    pk_entity = r.col_0.entity.pk_entity\n",
    "\n",
    "    ## births\n",
    "    birthsJD = get_entities_JD(r.col_3.entities)\n",
    "    \n",
    "    ## occupations, join the labels    \n",
    "    occupations = ','.join([e.entity_label for e in r.col_10.entities])\n",
    "    \n",
    "    ## occupations, list \n",
    "    occupations_l = get_entities_label(r.col_10.entities)\n",
    "    \n",
    "    ## enquiries, get begin date\n",
    "    enquiries = get_entities_JD(r.col_11.entities)\n",
    "\n",
    "    ## witnesses, get begin date\n",
    "    witnesses =  get_entities_JD(r.col_12.entities)\n",
    "                \n",
    "    ageOccupationProcessetto.append([pk_entity, birthsJD, occupations_l, enquiries, witnesses])               \n",
    "    \n",
    "    \n",
    "    \n"
   ]
  },
  {
   "cell_type": "code",
   "execution_count": null,
   "metadata": {
    "scrolled": true
   },
   "outputs": [],
   "source": [
    "pprint.pprint(ageOccupationProcessetto[50:100])"
   ]
  },
  {
   "cell_type": "code",
   "execution_count": null,
   "metadata": {},
   "outputs": [],
   "source": [
    "### age au moment du processetto et métier\n",
    "dateBirthEnquiryOccupation = []\n",
    "for l in ageOccupationProcessetto: #[50:70]:\n",
    "    if l[1] and l[3]:\n",
    "        if l[1][0] and l[3][0]:\n",
    "            d = [jd.jd2jcal((l[1][0]['JD']),0)[0:3],jd.jd2jcal((l[3][0]['JD']),0)[0:3]]\n",
    "            if l[2]:\n",
    "                dateBirthEnquiryOccupation.append(d + [l[2]])\n",
    "            else:    \n",
    "                dateBirthEnquiryOccupation.append(d )\n",
    "    else:\n",
    "        dateBirthEnquiryOccupation.append(None)\n",
    "\n",
    "    "
   ]
  },
  {
   "cell_type": "code",
   "execution_count": null,
   "metadata": {},
   "outputs": [],
   "source": [
    "ages = [(y[1][0] - y[0][0]) for y in dateBirthEnquiryOccupation if y]\n",
    "print(ages[:5])"
   ]
  },
  {
   "cell_type": "code",
   "execution_count": null,
   "metadata": {},
   "outputs": [],
   "source": [
    "s_ages = pd.Series(ages)\n",
    "s_ages.describe()"
   ]
  },
  {
   "cell_type": "code",
   "execution_count": null,
   "metadata": {},
   "outputs": [],
   "source": [
    "std = s_ages.sort_values()\n",
    "type(std)"
   ]
  },
  {
   "cell_type": "code",
   "execution_count": null,
   "metadata": {},
   "outputs": [],
   "source": [
    "# agesCount\n",
    "agesCount = pd.DataFrame(s_ages, columns=['column']).groupby(['column']).size()\n",
    "# print(type(agesCount))\n",
    "# agesCount.index"
   ]
  },
  {
   "cell_type": "code",
   "execution_count": null,
   "metadata": {},
   "outputs": [],
   "source": []
  },
  {
   "cell_type": "code",
   "execution_count": null,
   "metadata": {},
   "outputs": [],
   "source": [
    "ax = agesCount.plot.bar(x='lab', y='val', rot=70, figsize=(20,5))"
   ]
  },
  {
   "cell_type": "code",
   "execution_count": null,
   "metadata": {},
   "outputs": [],
   "source": []
  },
  {
   "cell_type": "code",
   "execution_count": null,
   "metadata": {},
   "outputs": [],
   "source": []
  },
  {
   "cell_type": "code",
   "execution_count": null,
   "metadata": {},
   "outputs": [],
   "source": []
  },
  {
   "cell_type": "code",
   "execution_count": null,
   "metadata": {},
   "outputs": [],
   "source": []
  },
  {
   "cell_type": "code",
   "execution_count": null,
   "metadata": {},
   "outputs": [],
   "source": []
  },
  {
   "cell_type": "code",
   "execution_count": null,
   "metadata": {},
   "outputs": [],
   "source": []
  }
 ],
 "metadata": {
  "kernelspec": {
   "display_name": "Py 3.7 Geovistory Analysis Public",
   "language": "python",
   "name": "py37_analysis_public"
  },
  "language_info": {
   "codemirror_mode": {
    "name": "ipython",
    "version": 3
   },
   "file_extension": ".py",
   "mimetype": "text/x-python",
   "name": "python",
   "nbconvert_exporter": "python",
   "pygments_lexer": "ipython3",
   "version": "3.7.10"
  }
 },
 "nbformat": 4,
 "nbformat_minor": 4
}
